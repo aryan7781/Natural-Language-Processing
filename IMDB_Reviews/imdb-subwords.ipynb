{
 "cells": [
  {
   "cell_type": "markdown",
   "source": [
    "# Importing Required Libraries"
   ],
   "metadata": {
    "id": "ZZpcwLVLgFpO",
    "papermill": {
     "duration": 0.01646,
     "end_time": "2021-09-26T06:28:50.482533",
     "exception": false,
     "start_time": "2021-09-26T06:28:50.466073",
     "status": "completed"
    },
    "tags": []
   }
  },
  {
   "cell_type": "code",
   "execution_count": 1,
   "source": [
    "import numpy as np\r\n",
    "import pandas as pd\r\n",
    "import tensorflow as tf\r\n",
    "import tensorflow_datasets as tfds\r\n",
    "import matplotlib.pyplot as plt\r\n",
    "%matplotlib inline\r\n",
    "\r\n",
    "from datetime import datetime"
   ],
   "outputs": [
    {
     "output_type": "stream",
     "name": "stderr",
     "text": [
      "2021-09-26 06:28:51.050635: I tensorflow/stream_executor/platform/default/dso_loader.cc:49] Successfully opened dynamic library libcudart.so.11.0\n"
     ]
    }
   ],
   "metadata": {
    "execution": {
     "iopub.execute_input": "2021-09-26T06:28:50.518425Z",
     "iopub.status.busy": "2021-09-26T06:28:50.516965Z",
     "iopub.status.idle": "2021-09-26T06:28:55.211916Z",
     "shell.execute_reply": "2021-09-26T06:28:55.211330Z",
     "shell.execute_reply.started": "2021-09-26T04:40:12.439056Z"
    },
    "id": "5MlymEwlf3sl",
    "papermill": {
     "duration": 4.713728,
     "end_time": "2021-09-26T06:28:55.212064",
     "exception": false,
     "start_time": "2021-09-26T06:28:50.498336",
     "status": "completed"
    },
    "tags": []
   }
  },
  {
   "cell_type": "code",
   "execution_count": 2,
   "source": [
    "# Function to help in loading the dataset\r\n",
    "def load_tfds_dataset(source:str, BUFFER_SIZE = 10000, BATCH_SIZE = 64):\r\n",
    "    # source variable contains the name of dataset being loaded from tfds\r\n",
    "    \r\n",
    "    data, info = tfds.load(source, with_info = True, as_supervised = True)\r\n",
    "    train_data, test_data = data['train'], data['test']\r\n",
    "    train_data = train_data.shuffle(BUFFER_SIZE)\r\n",
    "    train_data = train_data.padded_batch(BATCH_SIZE, tf.compat.v1.data.get_output_shapes(train_data))\r\n",
    "    test_data = test_data.padded_batch(BATCH_SIZE, tf.compat.v1.data.get_output_shapes(test_data))\r\n",
    "\r\n",
    "    return train_data, test_data"
   ],
   "outputs": [],
   "metadata": {
    "execution": {
     "iopub.execute_input": "2021-09-26T06:28:55.249264Z",
     "iopub.status.busy": "2021-09-26T06:28:55.248728Z",
     "iopub.status.idle": "2021-09-26T06:28:55.252566Z",
     "shell.execute_reply": "2021-09-26T06:28:55.252124Z",
     "shell.execute_reply.started": "2021-09-26T04:40:17.289126Z"
    },
    "id": "KwmdMgFHgT74",
    "papermill": {
     "duration": 0.02441,
     "end_time": "2021-09-26T06:28:55.252669",
     "exception": false,
     "start_time": "2021-09-26T06:28:55.228259",
     "status": "completed"
    },
    "tags": []
   }
  },
  {
   "cell_type": "code",
   "execution_count": 3,
   "source": [
    "# Functions to help in plotting graphs to compare the accuracy and losses of different models.\r\n",
    "\r\n",
    "def plot_graphs(history, string, axis):\r\n",
    "    axis.plot((history.history)[string])\r\n",
    "    axis.plot((history.history)['val_'+string])\r\n",
    "\r\n",
    "\r\n",
    "def compare_models(histories:list, num_cols = 2):\r\n",
    "    num_rows = len(histories)\r\n",
    "    fig, axes = plt.subplots(num_rows, num_cols)\r\n",
    "    axarr = axes.flat\r\n",
    "\r\n",
    "    for i, history in enumerate(histories):\r\n",
    "        plot_graphs(history, 'accuracy', axarr[2*i])\r\n",
    "        plot_graphs(history, 'loss', axarr[2*i + 1])"
   ],
   "outputs": [],
   "metadata": {
    "execution": {
     "iopub.execute_input": "2021-09-26T06:28:55.289129Z",
     "iopub.status.busy": "2021-09-26T06:28:55.288620Z",
     "iopub.status.idle": "2021-09-26T06:28:55.291799Z",
     "shell.execute_reply": "2021-09-26T06:28:55.292161Z",
     "shell.execute_reply.started": "2021-09-26T05:06:36.01471Z"
    },
    "id": "c4FWqxTekQ-a",
    "papermill": {
     "duration": 0.024258,
     "end_time": "2021-09-26T06:28:55.292298",
     "exception": false,
     "start_time": "2021-09-26T06:28:55.268040",
     "status": "completed"
    },
    "tags": []
   }
  },
  {
   "cell_type": "code",
   "execution_count": 4,
   "source": [
    "# Loading the train and test data using the function defined above\r\n",
    "# The string used as source should exactly match the name in list of datasets available in tfds\r\n",
    "\r\n",
    "train_data, test_data = load_tfds_dataset('imdb_reviews/subwords8k')"
   ],
   "outputs": [
    {
     "output_type": "stream",
     "name": "stdout",
     "text": [
      "\u001b[1mDownloading and preparing dataset imdb_reviews/subwords8k/1.0.0 (download: 80.23 MiB, generated: Unknown size, total: 80.23 MiB) to /root/tensorflow_datasets/imdb_reviews/subwords8k/1.0.0...\u001b[0m\n"
     ]
    },
    {
     "output_type": "display_data",
     "data": {
      "application/vnd.jupyter.widget-view+json": {
       "model_id": "5011a1c87bcf45b990bc4a76c46451ea",
       "version_major": 2,
       "version_minor": 0
      },
      "text/plain": [
       "Dl Completed...: 0 url [00:00, ? url/s]"
      ]
     },
     "metadata": {}
    },
    {
     "output_type": "display_data",
     "data": {
      "application/vnd.jupyter.widget-view+json": {
       "model_id": "2c686f45f7354ad8847269f3b86ab4c9",
       "version_major": 2,
       "version_minor": 0
      },
      "text/plain": [
       "Dl Size...: 0 MiB [00:00, ? MiB/s]"
      ]
     },
     "metadata": {}
    },
    {
     "output_type": "stream",
     "name": "stdout",
     "text": [
      "\n",
      "\n"
     ]
    },
    {
     "output_type": "display_data",
     "data": {
      "application/vnd.jupyter.widget-view+json": {
       "model_id": "b5dc03a617264e85b20db21b6d59b472",
       "version_major": 2,
       "version_minor": 0
      },
      "text/plain": [
       "0 examples [00:00, ? examples/s]"
      ]
     },
     "metadata": {}
    },
    {
     "output_type": "stream",
     "name": "stdout",
     "text": [
      "Shuffling and writing examples to /root/tensorflow_datasets/imdb_reviews/subwords8k/1.0.0.incompleteZIQZTU/imdb_reviews-train.tfrecord\n"
     ]
    },
    {
     "output_type": "display_data",
     "data": {
      "application/vnd.jupyter.widget-view+json": {
       "model_id": "8867283e6a444288ad37e141e0942edf",
       "version_major": 2,
       "version_minor": 0
      },
      "text/plain": [
       "  0%|          | 0/25000 [00:00<?, ? examples/s]"
      ]
     },
     "metadata": {}
    },
    {
     "output_type": "display_data",
     "data": {
      "application/vnd.jupyter.widget-view+json": {
       "model_id": "35e03c9b654b4676baac21e8bc1c7150",
       "version_major": 2,
       "version_minor": 0
      },
      "text/plain": [
       "0 examples [00:00, ? examples/s]"
      ]
     },
     "metadata": {}
    },
    {
     "output_type": "stream",
     "name": "stdout",
     "text": [
      "Shuffling and writing examples to /root/tensorflow_datasets/imdb_reviews/subwords8k/1.0.0.incompleteZIQZTU/imdb_reviews-test.tfrecord\n"
     ]
    },
    {
     "output_type": "display_data",
     "data": {
      "application/vnd.jupyter.widget-view+json": {
       "model_id": "256a08392964485b918ee7371249bf03",
       "version_major": 2,
       "version_minor": 0
      },
      "text/plain": [
       "  0%|          | 0/25000 [00:00<?, ? examples/s]"
      ]
     },
     "metadata": {}
    },
    {
     "output_type": "display_data",
     "data": {
      "application/vnd.jupyter.widget-view+json": {
       "model_id": "e4dd8d503e8843219b04fe48aa5ebbbe",
       "version_major": 2,
       "version_minor": 0
      },
      "text/plain": [
       "0 examples [00:00, ? examples/s]"
      ]
     },
     "metadata": {}
    },
    {
     "output_type": "stream",
     "name": "stdout",
     "text": [
      "Shuffling and writing examples to /root/tensorflow_datasets/imdb_reviews/subwords8k/1.0.0.incompleteZIQZTU/imdb_reviews-unsupervised.tfrecord\n"
     ]
    },
    {
     "output_type": "display_data",
     "data": {
      "application/vnd.jupyter.widget-view+json": {
       "model_id": "d428a22e7ada43479b971a5626353632",
       "version_major": 2,
       "version_minor": 0
      },
      "text/plain": [
       "  0%|          | 0/50000 [00:00<?, ? examples/s]"
      ]
     },
     "metadata": {}
    },
    {
     "output_type": "stream",
     "name": "stdout",
     "text": [
      "\u001b[1mDataset imdb_reviews downloaded and prepared to /root/tensorflow_datasets/imdb_reviews/subwords8k/1.0.0. Subsequent calls will reuse this data.\u001b[0m\n"
     ]
    },
    {
     "output_type": "stream",
     "name": "stderr",
     "text": [
      "2021-09-26 06:31:33.304494: I tensorflow/compiler/jit/xla_cpu_device.cc:41] Not creating XLA devices, tf_xla_enable_xla_devices not set\n",
      "2021-09-26 06:31:33.307365: I tensorflow/stream_executor/platform/default/dso_loader.cc:49] Successfully opened dynamic library libcuda.so.1\n",
      "2021-09-26 06:31:33.354550: I tensorflow/stream_executor/cuda/cuda_gpu_executor.cc:941] successful NUMA node read from SysFS had negative value (-1), but there must be at least one NUMA node, so returning NUMA node zero\n",
      "2021-09-26 06:31:33.355152: I tensorflow/core/common_runtime/gpu/gpu_device.cc:1720] Found device 0 with properties: \n",
      "pciBusID: 0000:00:04.0 name: Tesla P100-PCIE-16GB computeCapability: 6.0\n",
      "coreClock: 1.3285GHz coreCount: 56 deviceMemorySize: 15.90GiB deviceMemoryBandwidth: 681.88GiB/s\n",
      "2021-09-26 06:31:33.355238: I tensorflow/stream_executor/platform/default/dso_loader.cc:49] Successfully opened dynamic library libcudart.so.11.0\n",
      "2021-09-26 06:31:33.382157: I tensorflow/stream_executor/platform/default/dso_loader.cc:49] Successfully opened dynamic library libcublas.so.11\n",
      "2021-09-26 06:31:33.382286: I tensorflow/stream_executor/platform/default/dso_loader.cc:49] Successfully opened dynamic library libcublasLt.so.11\n",
      "2021-09-26 06:31:33.398738: I tensorflow/stream_executor/platform/default/dso_loader.cc:49] Successfully opened dynamic library libcufft.so.10\n",
      "2021-09-26 06:31:33.407262: I tensorflow/stream_executor/platform/default/dso_loader.cc:49] Successfully opened dynamic library libcurand.so.10\n",
      "2021-09-26 06:31:33.429686: I tensorflow/stream_executor/platform/default/dso_loader.cc:49] Successfully opened dynamic library libcusolver.so.10\n",
      "2021-09-26 06:31:33.436797: I tensorflow/stream_executor/platform/default/dso_loader.cc:49] Successfully opened dynamic library libcusparse.so.11\n",
      "2021-09-26 06:31:33.439439: I tensorflow/stream_executor/platform/default/dso_loader.cc:49] Successfully opened dynamic library libcudnn.so.8\n",
      "2021-09-26 06:31:33.439616: I tensorflow/stream_executor/cuda/cuda_gpu_executor.cc:941] successful NUMA node read from SysFS had negative value (-1), but there must be at least one NUMA node, so returning NUMA node zero\n",
      "2021-09-26 06:31:33.440300: I tensorflow/stream_executor/cuda/cuda_gpu_executor.cc:941] successful NUMA node read from SysFS had negative value (-1), but there must be at least one NUMA node, so returning NUMA node zero\n",
      "2021-09-26 06:31:33.441665: I tensorflow/core/common_runtime/gpu/gpu_device.cc:1862] Adding visible gpu devices: 0\n",
      "2021-09-26 06:31:33.442909: I tensorflow/core/platform/cpu_feature_guard.cc:142] This TensorFlow binary is optimized with oneAPI Deep Neural Network Library (oneDNN) to use the following CPU instructions in performance-critical operations:  AVX2 AVX512F FMA\n",
      "To enable them in other operations, rebuild TensorFlow with the appropriate compiler flags.\n",
      "2021-09-26 06:31:33.444034: I tensorflow/compiler/jit/xla_gpu_device.cc:99] Not creating XLA devices, tf_xla_enable_xla_devices not set\n",
      "2021-09-26 06:31:33.444208: I tensorflow/stream_executor/cuda/cuda_gpu_executor.cc:941] successful NUMA node read from SysFS had negative value (-1), but there must be at least one NUMA node, so returning NUMA node zero\n",
      "2021-09-26 06:31:33.444778: I tensorflow/core/common_runtime/gpu/gpu_device.cc:1720] Found device 0 with properties: \n",
      "pciBusID: 0000:00:04.0 name: Tesla P100-PCIE-16GB computeCapability: 6.0\n",
      "coreClock: 1.3285GHz coreCount: 56 deviceMemorySize: 15.90GiB deviceMemoryBandwidth: 681.88GiB/s\n",
      "2021-09-26 06:31:33.444819: I tensorflow/stream_executor/platform/default/dso_loader.cc:49] Successfully opened dynamic library libcudart.so.11.0\n",
      "2021-09-26 06:31:33.444842: I tensorflow/stream_executor/platform/default/dso_loader.cc:49] Successfully opened dynamic library libcublas.so.11\n",
      "2021-09-26 06:31:33.444857: I tensorflow/stream_executor/platform/default/dso_loader.cc:49] Successfully opened dynamic library libcublasLt.so.11\n",
      "2021-09-26 06:31:33.444872: I tensorflow/stream_executor/platform/default/dso_loader.cc:49] Successfully opened dynamic library libcufft.so.10\n",
      "2021-09-26 06:31:33.444887: I tensorflow/stream_executor/platform/default/dso_loader.cc:49] Successfully opened dynamic library libcurand.so.10\n",
      "2021-09-26 06:31:33.444902: I tensorflow/stream_executor/platform/default/dso_loader.cc:49] Successfully opened dynamic library libcusolver.so.10\n",
      "2021-09-26 06:31:33.444917: I tensorflow/stream_executor/platform/default/dso_loader.cc:49] Successfully opened dynamic library libcusparse.so.11\n",
      "2021-09-26 06:31:33.444932: I tensorflow/stream_executor/platform/default/dso_loader.cc:49] Successfully opened dynamic library libcudnn.so.8\n",
      "2021-09-26 06:31:33.445008: I tensorflow/stream_executor/cuda/cuda_gpu_executor.cc:941] successful NUMA node read from SysFS had negative value (-1), but there must be at least one NUMA node, so returning NUMA node zero\n",
      "2021-09-26 06:31:33.445657: I tensorflow/stream_executor/cuda/cuda_gpu_executor.cc:941] successful NUMA node read from SysFS had negative value (-1), but there must be at least one NUMA node, so returning NUMA node zero\n",
      "2021-09-26 06:31:33.446192: I tensorflow/core/common_runtime/gpu/gpu_device.cc:1862] Adding visible gpu devices: 0\n",
      "2021-09-26 06:31:33.447182: I tensorflow/stream_executor/platform/default/dso_loader.cc:49] Successfully opened dynamic library libcudart.so.11.0\n",
      "2021-09-26 06:31:34.880663: I tensorflow/core/common_runtime/gpu/gpu_device.cc:1261] Device interconnect StreamExecutor with strength 1 edge matrix:\n",
      "2021-09-26 06:31:34.880709: I tensorflow/core/common_runtime/gpu/gpu_device.cc:1267]      0 \n",
      "2021-09-26 06:31:34.880718: I tensorflow/core/common_runtime/gpu/gpu_device.cc:1280] 0:   N \n",
      "2021-09-26 06:31:34.883013: I tensorflow/stream_executor/cuda/cuda_gpu_executor.cc:941] successful NUMA node read from SysFS had negative value (-1), but there must be at least one NUMA node, so returning NUMA node zero\n",
      "2021-09-26 06:31:34.883800: I tensorflow/stream_executor/cuda/cuda_gpu_executor.cc:941] successful NUMA node read from SysFS had negative value (-1), but there must be at least one NUMA node, so returning NUMA node zero\n",
      "2021-09-26 06:31:34.884433: I tensorflow/stream_executor/cuda/cuda_gpu_executor.cc:941] successful NUMA node read from SysFS had negative value (-1), but there must be at least one NUMA node, so returning NUMA node zero\n",
      "2021-09-26 06:31:34.884983: I tensorflow/core/common_runtime/gpu/gpu_device.cc:1406] Created TensorFlow device (/job:localhost/replica:0/task:0/device:GPU:0 with 14957 MB memory) -> physical GPU (device: 0, name: Tesla P100-PCIE-16GB, pci bus id: 0000:00:04.0, compute capability: 6.0)\n"
     ]
    }
   ],
   "metadata": {
    "execution": {
     "iopub.execute_input": "2021-09-26T06:28:55.328834Z",
     "iopub.status.busy": "2021-09-26T06:28:55.328046Z",
     "iopub.status.idle": "2021-09-26T06:31:35.025262Z",
     "shell.execute_reply": "2021-09-26T06:31:35.025674Z",
     "shell.execute_reply.started": "2021-09-26T04:40:17.313108Z"
    },
    "id": "gIsFWfKFqIxK",
    "outputId": "d527f19e-e679-4591-bc05-cef80b1ce694",
    "papermill": {
     "duration": 159.718337,
     "end_time": "2021-09-26T06:31:35.025841",
     "exception": false,
     "start_time": "2021-09-26T06:28:55.307504",
     "status": "completed"
    },
    "tags": []
   }
  },
  {
   "cell_type": "markdown",
   "source": [
    "# Definition of Various models with different parameters and layers\n",
    "    -> Different models have been defined that use different parameters and layers.\n",
    "    -> Inclusion and Exclusion of LSTMs, GRUs, and CNNs shall be tried and the effects are to be noted from the graphs."
   ],
   "metadata": {
    "papermill": {
     "duration": 0.020349,
     "end_time": "2021-09-26T06:31:35.066804",
     "exception": false,
     "start_time": "2021-09-26T06:31:35.046455",
     "status": "completed"
    },
    "tags": []
   }
  },
  {
   "cell_type": "code",
   "execution_count": 5,
   "source": [
    "# Model 1 is trained with an embedding layer and dense layers\r\n",
    "Model_1 = tf.keras.Sequential([\r\n",
    "                             tf.keras.layers.Embedding(10000, 64),\r\n",
    "                             tf.keras.layers.GlobalAveragePooling1D(),\r\n",
    "                             tf.keras.layers.Dense(32, activation = 'relu'),\r\n",
    "                             tf.keras.layers.Dense(16, activation = 'relu'),\r\n",
    "                             tf.keras.layers.Dense(1, activation = 'sigmoid')\r\n",
    "], name = 'Model_1')\r\n",
    "\r\n",
    "Model_1.compile(\r\n",
    "    loss = 'binary_crossentropy',\r\n",
    "    optimizer = 'adam',\r\n",
    "    metrics = 'accuracy'\r\n",
    ")\r\n",
    "\r\n",
    "Model_1.summary()"
   ],
   "outputs": [
    {
     "output_type": "stream",
     "name": "stdout",
     "text": [
      "Model: \"Model_1\"\n",
      "_________________________________________________________________\n",
      "Layer (type)                 Output Shape              Param #   \n",
      "=================================================================\n",
      "embedding (Embedding)        (None, None, 64)          640000    \n",
      "_________________________________________________________________\n",
      "global_average_pooling1d (Gl (None, 64)                0         \n",
      "_________________________________________________________________\n",
      "dense (Dense)                (None, 32)                2080      \n",
      "_________________________________________________________________\n",
      "dense_1 (Dense)              (None, 16)                528       \n",
      "_________________________________________________________________\n",
      "dense_2 (Dense)              (None, 1)                 17        \n",
      "=================================================================\n",
      "Total params: 642,625\n",
      "Trainable params: 642,625\n",
      "Non-trainable params: 0\n",
      "_________________________________________________________________\n"
     ]
    }
   ],
   "metadata": {
    "execution": {
     "iopub.execute_input": "2021-09-26T06:31:35.114815Z",
     "iopub.status.busy": "2021-09-26T06:31:35.114163Z",
     "iopub.status.idle": "2021-09-26T06:31:35.463014Z",
     "shell.execute_reply": "2021-09-26T06:31:35.463565Z",
     "shell.execute_reply.started": "2021-09-26T04:42:57.003636Z"
    },
    "id": "LUwSwCl9nvAh",
    "outputId": "5b03f4ee-7885-44ca-9849-935a2cd8ab67",
    "papermill": {
     "duration": 0.375951,
     "end_time": "2021-09-26T06:31:35.463729",
     "exception": false,
     "start_time": "2021-09-26T06:31:35.087778",
     "status": "completed"
    },
    "tags": []
   }
  },
  {
   "cell_type": "code",
   "execution_count": 6,
   "source": [
    "# Model 2 is made with Embedding Layer and Dense Layers with different params as compared to model 1\r\n",
    "Model_2 = tf.keras.Sequential([\r\n",
    "                             tf.keras.layers.Embedding(10000, 16),\r\n",
    "                             tf.keras.layers.GlobalAveragePooling1D(),\r\n",
    "                             tf.keras.layers.Dense(32, activation = 'relu'),\r\n",
    "                             tf.keras.layers.Dense(16, activation = 'relu'),\r\n",
    "                             tf.keras.layers.Dense(1, activation = 'sigmoid')\r\n",
    "], name = 'Model_2')\r\n",
    "\r\n",
    "Model_2.compile(\r\n",
    "    loss = 'binary_crossentropy',\r\n",
    "    optimizer = 'adam',\r\n",
    "    metrics = 'accuracy'\r\n",
    ")\r\n",
    "\r\n",
    "Model_2.summary()"
   ],
   "outputs": [
    {
     "output_type": "stream",
     "name": "stdout",
     "text": [
      "Model: \"Model_2\"\n",
      "_________________________________________________________________\n",
      "Layer (type)                 Output Shape              Param #   \n",
      "=================================================================\n",
      "embedding_1 (Embedding)      (None, None, 16)          160000    \n",
      "_________________________________________________________________\n",
      "global_average_pooling1d_1 ( (None, 16)                0         \n",
      "_________________________________________________________________\n",
      "dense_3 (Dense)              (None, 32)                544       \n",
      "_________________________________________________________________\n",
      "dense_4 (Dense)              (None, 16)                528       \n",
      "_________________________________________________________________\n",
      "dense_5 (Dense)              (None, 1)                 17        \n",
      "=================================================================\n",
      "Total params: 161,089\n",
      "Trainable params: 161,089\n",
      "Non-trainable params: 0\n",
      "_________________________________________________________________\n"
     ]
    }
   ],
   "metadata": {
    "execution": {
     "iopub.execute_input": "2021-09-26T06:31:35.515435Z",
     "iopub.status.busy": "2021-09-26T06:31:35.512740Z",
     "iopub.status.idle": "2021-09-26T06:31:35.552435Z",
     "shell.execute_reply": "2021-09-26T06:31:35.551982Z",
     "shell.execute_reply.started": "2021-09-26T04:57:18.403116Z"
    },
    "id": "ZAlET2Popu4T",
    "outputId": "91a32c03-8f27-448f-9c91-d6215e4e8d93",
    "papermill": {
     "duration": 0.067885,
     "end_time": "2021-09-26T06:31:35.552549",
     "exception": false,
     "start_time": "2021-09-26T06:31:35.484664",
     "status": "completed"
    },
    "tags": []
   }
  },
  {
   "cell_type": "code",
   "execution_count": 7,
   "source": [
    "# Model 3 uses LSTM for taking into account Sequential Behaviour of Text data.\r\n",
    "# LSTM is different from general RNNs as it's cells include \"Cell State\" that help to carry important details for longer times.\r\n",
    "Model_3 = tf.keras.Sequential([\r\n",
    "                             tf.keras.layers.Embedding(10000, 16),\r\n",
    "                             tf.keras.layers.LSTM(32),\r\n",
    "                             tf.keras.layers.Dense(16, activation = 'relu'),\r\n",
    "                             tf.keras.layers.Dense(16, activation = 'relu'),\r\n",
    "                             tf.keras.layers.Dense(1, activation = 'sigmoid')\r\n",
    "], name = 'Model_3')\r\n",
    "\r\n",
    "Model_3.compile(\r\n",
    "    loss = 'binary_crossentropy',\r\n",
    "    optimizer = 'adam',\r\n",
    "    metrics = 'accuracy'\r\n",
    ")\r\n",
    "\r\n",
    "Model_3.summary()"
   ],
   "outputs": [
    {
     "output_type": "stream",
     "name": "stdout",
     "text": [
      "Model: \"Model_3\"\n",
      "_________________________________________________________________\n",
      "Layer (type)                 Output Shape              Param #   \n",
      "=================================================================\n",
      "embedding_2 (Embedding)      (None, None, 16)          160000    \n",
      "_________________________________________________________________\n",
      "lstm (LSTM)                  (None, 32)                6272      \n",
      "_________________________________________________________________\n",
      "dense_6 (Dense)              (None, 16)                528       \n",
      "_________________________________________________________________\n",
      "dense_7 (Dense)              (None, 16)                272       \n",
      "_________________________________________________________________\n",
      "dense_8 (Dense)              (None, 1)                 17        \n",
      "=================================================================\n",
      "Total params: 167,089\n",
      "Trainable params: 167,089\n",
      "Non-trainable params: 0\n",
      "_________________________________________________________________\n"
     ]
    }
   ],
   "metadata": {
    "execution": {
     "iopub.execute_input": "2021-09-26T06:31:35.606316Z",
     "iopub.status.busy": "2021-09-26T06:31:35.605525Z",
     "iopub.status.idle": "2021-09-26T06:31:35.861813Z",
     "shell.execute_reply": "2021-09-26T06:31:35.861358Z",
     "shell.execute_reply.started": "2021-09-26T04:42:57.373766Z"
    },
    "id": "ChSDsuogs4Hq",
    "outputId": "a0112d2a-2257-4dbb-e158-598cae23a5f6",
    "papermill": {
     "duration": 0.288323,
     "end_time": "2021-09-26T06:31:35.861929",
     "exception": false,
     "start_time": "2021-09-26T06:31:35.573606",
     "status": "completed"
    },
    "tags": []
   }
  },
  {
   "cell_type": "code",
   "execution_count": 8,
   "source": [
    "# Module 4 uses Bidirectional RNNs that help to take into consideration words in a text that come after the context word to predict the meaning of the context word.\r\n",
    "Model_4 = tf.keras.Sequential([\r\n",
    "                             tf.keras.layers.Embedding(10000, 32),\r\n",
    "                             tf.keras.layers.Bidirectional(tf.keras.layers.LSTM(64)),\r\n",
    "                             tf.keras.layers.Dense(16, activation = 'relu'),\r\n",
    "                             tf.keras.layers.Dense(16, activation = 'relu'),\r\n",
    "                             tf.keras.layers.Dense(1, activation = 'sigmoid')\r\n",
    "], name = 'Model_4')\r\n",
    "\r\n",
    "Model_4.compile(\r\n",
    "    loss = 'binary_crossentropy',\r\n",
    "    optimizer = 'adam',\r\n",
    "    metrics = 'accuracy'\r\n",
    ")\r\n",
    "\r\n",
    "Model_4.summary()"
   ],
   "outputs": [
    {
     "output_type": "stream",
     "name": "stdout",
     "text": [
      "Model: \"Model_4\"\n",
      "_________________________________________________________________\n",
      "Layer (type)                 Output Shape              Param #   \n",
      "=================================================================\n",
      "embedding_3 (Embedding)      (None, None, 32)          320000    \n",
      "_________________________________________________________________\n",
      "bidirectional (Bidirectional (None, 128)               49664     \n",
      "_________________________________________________________________\n",
      "dense_9 (Dense)              (None, 16)                2064      \n",
      "_________________________________________________________________\n",
      "dense_10 (Dense)             (None, 16)                272       \n",
      "_________________________________________________________________\n",
      "dense_11 (Dense)             (None, 1)                 17        \n",
      "=================================================================\n",
      "Total params: 372,017\n",
      "Trainable params: 372,017\n",
      "Non-trainable params: 0\n",
      "_________________________________________________________________\n"
     ]
    }
   ],
   "metadata": {
    "execution": {
     "iopub.execute_input": "2021-09-26T06:31:35.926528Z",
     "iopub.status.busy": "2021-09-26T06:31:35.907980Z",
     "iopub.status.idle": "2021-09-26T06:31:36.337971Z",
     "shell.execute_reply": "2021-09-26T06:31:36.338415Z",
     "shell.execute_reply.started": "2021-09-26T04:42:57.381237Z"
    },
    "id": "TPAVJSlEDs1a",
    "outputId": "ca2ff165-2eca-4ba8-d858-aad2f96d8eb1",
    "papermill": {
     "duration": 0.455148,
     "end_time": "2021-09-26T06:31:36.338595",
     "exception": false,
     "start_time": "2021-09-26T06:31:35.883447",
     "status": "completed"
    },
    "tags": []
   }
  },
  {
   "cell_type": "code",
   "execution_count": 9,
   "source": [
    "Model_5 = tf.keras.Sequential([\r\n",
    "                             tf.keras.layers.Embedding(10000, 32),\r\n",
    "                             # tf.keras.layers.Bidirectional(tf.keras.layers.LSTM(64)),\r\n",
    "                             tf.keras.layers.Conv1D(128, 5, activation = 'relu'),\r\n",
    "                             tf.keras.layers.Dense(16, activation = 'relu'),\r\n",
    "                             tf.keras.layers.Dense(16, activation = 'relu'),\r\n",
    "                             tf.keras.layers.Dense(1, activation = 'sigmoid')\r\n",
    "], name = 'Model_5')\r\n",
    "\r\n",
    "Model_5.compile(\r\n",
    "    loss = 'binary_crossentropy',\r\n",
    "    optimizer = 'adam',\r\n",
    "    metrics = 'accuracy'\r\n",
    ")\r\n",
    "\r\n",
    "Model_5.summary()"
   ],
   "outputs": [
    {
     "output_type": "stream",
     "name": "stdout",
     "text": [
      "Model: \"Model_5\"\n",
      "_________________________________________________________________\n",
      "Layer (type)                 Output Shape              Param #   \n",
      "=================================================================\n",
      "embedding_4 (Embedding)      (None, None, 32)          320000    \n",
      "_________________________________________________________________\n",
      "conv1d (Conv1D)              (None, None, 128)         20608     \n",
      "_________________________________________________________________\n",
      "dense_12 (Dense)             (None, None, 16)          2064      \n",
      "_________________________________________________________________\n",
      "dense_13 (Dense)             (None, None, 16)          272       \n",
      "_________________________________________________________________\n",
      "dense_14 (Dense)             (None, None, 1)           17        \n",
      "=================================================================\n",
      "Total params: 342,961\n",
      "Trainable params: 342,961\n",
      "Non-trainable params: 0\n",
      "_________________________________________________________________\n"
     ]
    }
   ],
   "metadata": {
    "execution": {
     "iopub.execute_input": "2021-09-26T06:31:36.393697Z",
     "iopub.status.busy": "2021-09-26T06:31:36.385985Z",
     "iopub.status.idle": "2021-09-26T06:31:36.470668Z",
     "shell.execute_reply": "2021-09-26T06:31:36.471041Z",
     "shell.execute_reply.started": "2021-09-26T04:42:57.392035Z"
    },
    "id": "9PQkB3ZrMUUy",
    "papermill": {
     "duration": 0.110357,
     "end_time": "2021-09-26T06:31:36.471174",
     "exception": false,
     "start_time": "2021-09-26T06:31:36.360817",
     "status": "completed"
    },
    "tags": []
   }
  },
  {
   "cell_type": "code",
   "execution_count": 10,
   "source": [
    "# Model 6 is composed of 2 RNN layers.\r\n",
    "Model_6 = tf.keras.Sequential([\r\n",
    "                             tf.keras.layers.Embedding(10000, 32),\r\n",
    "                             tf.keras.layers.Bidirectional(tf.keras.layers.LSTM(64, return_sequences = True)),\r\n",
    "                             tf.keras.layers.Bidirectional(tf.keras.layers.LSTM(64)),\r\n",
    "                             tf.keras.layers.Dense(16, activation = 'relu'),\r\n",
    "                             tf.keras.layers.Dense(16, activation = 'relu'),\r\n",
    "                             tf.keras.layers.Dense(1, activation = 'sigmoid')\r\n",
    "], name = 'Model_6')\r\n",
    "\r\n",
    "Model_6.compile(\r\n",
    "    loss = 'binary_crossentropy',\r\n",
    "    optimizer = 'adam',\r\n",
    "    metrics = 'accuracy'\r\n",
    ")\r\n",
    "\r\n",
    "Model_6.summary()"
   ],
   "outputs": [
    {
     "output_type": "stream",
     "name": "stdout",
     "text": [
      "Model: \"Model_6\"\n",
      "_________________________________________________________________\n",
      "Layer (type)                 Output Shape              Param #   \n",
      "=================================================================\n",
      "embedding_5 (Embedding)      (None, None, 32)          320000    \n",
      "_________________________________________________________________\n",
      "bidirectional_1 (Bidirection (None, None, 128)         49664     \n",
      "_________________________________________________________________\n",
      "bidirectional_2 (Bidirection (None, 128)               98816     \n",
      "_________________________________________________________________\n",
      "dense_15 (Dense)             (None, 16)                2064      \n",
      "_________________________________________________________________\n",
      "dense_16 (Dense)             (None, 16)                272       \n",
      "_________________________________________________________________\n",
      "dense_17 (Dense)             (None, 1)                 17        \n",
      "=================================================================\n",
      "Total params: 470,833\n",
      "Trainable params: 470,833\n",
      "Non-trainable params: 0\n",
      "_________________________________________________________________\n"
     ]
    }
   ],
   "metadata": {
    "execution": {
     "iopub.execute_input": "2021-09-26T06:31:36.523701Z",
     "iopub.status.busy": "2021-09-26T06:31:36.522945Z",
     "iopub.status.idle": "2021-09-26T06:31:37.322031Z",
     "shell.execute_reply": "2021-09-26T06:31:37.321598Z"
    },
    "papermill": {
     "duration": 0.828669,
     "end_time": "2021-09-26T06:31:37.322151",
     "exception": false,
     "start_time": "2021-09-26T06:31:36.493482",
     "status": "completed"
    },
    "tags": []
   }
  },
  {
   "cell_type": "markdown",
   "source": [
    "# Beginning of training of models"
   ],
   "metadata": {
    "papermill": {
     "duration": 0.022397,
     "end_time": "2021-09-26T06:31:37.367730",
     "exception": false,
     "start_time": "2021-09-26T06:31:37.345333",
     "status": "completed"
    },
    "tags": []
   }
  },
  {
   "cell_type": "code",
   "execution_count": 11,
   "source": [
    "start = datetime.now()\r\n",
    "history_1 = Model_1.fit(train_data, epochs = 10, validation_data = test_data)\r\n",
    "end = datetime.now()\r\n",
    "print(f\"Estimated Time elapsed for training {Model_1.name} is : {(end - start).seconds} seconds\")"
   ],
   "outputs": [
    {
     "output_type": "stream",
     "name": "stdout",
     "text": [
      "Epoch 1/10\n"
     ]
    },
    {
     "output_type": "stream",
     "name": "stderr",
     "text": [
      "2021-09-26 06:31:37.914211: I tensorflow/compiler/mlir/mlir_graph_optimization_pass.cc:116] None of the MLIR optimization passes are enabled (registered 2)\n",
      "2021-09-26 06:31:37.920896: I tensorflow/core/platform/profile_utils/cpu_utils.cc:112] CPU Frequency: 2000140000 Hz\n",
      "2021-09-26 06:31:38.043714: I tensorflow/stream_executor/platform/default/dso_loader.cc:49] Successfully opened dynamic library libcublas.so.11\n"
     ]
    },
    {
     "output_type": "stream",
     "name": "stdout",
     "text": [
      "  3/391 [..............................] - ETA: 15s - loss: 0.6939 - accuracy: 0.4731  "
     ]
    },
    {
     "output_type": "stream",
     "name": "stderr",
     "text": [
      "2021-09-26 06:31:39.164432: I tensorflow/stream_executor/platform/default/dso_loader.cc:49] Successfully opened dynamic library libcublasLt.so.11\n"
     ]
    },
    {
     "output_type": "stream",
     "name": "stdout",
     "text": [
      "391/391 [==============================] - 14s 31ms/step - loss: 0.6772 - accuracy: 0.5706 - val_loss: 0.4292 - val_accuracy: 0.8371\n",
      "Epoch 2/10\n",
      "391/391 [==============================] - 12s 29ms/step - loss: 0.3565 - accuracy: 0.8600 - val_loss: 0.3266 - val_accuracy: 0.8662\n",
      "Epoch 3/10\n",
      "391/391 [==============================] - 12s 30ms/step - loss: 0.2508 - accuracy: 0.9087 - val_loss: 0.3149 - val_accuracy: 0.8731\n",
      "Epoch 4/10\n",
      "391/391 [==============================] - 12s 30ms/step - loss: 0.2027 - accuracy: 0.9261 - val_loss: 0.3220 - val_accuracy: 0.8776\n",
      "Epoch 5/10\n",
      "391/391 [==============================] - 12s 29ms/step - loss: 0.1852 - accuracy: 0.9324 - val_loss: 0.3459 - val_accuracy: 0.8709\n",
      "Epoch 6/10\n",
      "391/391 [==============================] - 13s 30ms/step - loss: 0.1581 - accuracy: 0.9453 - val_loss: 0.3480 - val_accuracy: 0.8708\n",
      "Epoch 7/10\n",
      "391/391 [==============================] - 12s 29ms/step - loss: 0.1492 - accuracy: 0.9463 - val_loss: 0.3628 - val_accuracy: 0.8716\n",
      "Epoch 8/10\n",
      "391/391 [==============================] - 12s 29ms/step - loss: 0.1321 - accuracy: 0.9562 - val_loss: 0.3919 - val_accuracy: 0.8691\n",
      "Epoch 9/10\n",
      "391/391 [==============================] - 12s 30ms/step - loss: 0.1165 - accuracy: 0.9601 - val_loss: 0.4104 - val_accuracy: 0.8671\n",
      "Epoch 10/10\n",
      "391/391 [==============================] - 12s 28ms/step - loss: 0.1056 - accuracy: 0.9648 - val_loss: 0.4421 - val_accuracy: 0.8650\n",
      "Estimated Time elapsed for training Model_1 is : 123 seconds\n"
     ]
    }
   ],
   "metadata": {
    "execution": {
     "iopub.execute_input": "2021-09-26T06:31:37.418582Z",
     "iopub.status.busy": "2021-09-26T06:31:37.418048Z",
     "iopub.status.idle": "2021-09-26T06:33:41.377063Z",
     "shell.execute_reply": "2021-09-26T06:33:41.376436Z",
     "shell.execute_reply.started": "2021-09-26T04:42:57.402266Z"
    },
    "papermill": {
     "duration": 123.986328,
     "end_time": "2021-09-26T06:33:41.377541",
     "exception": false,
     "start_time": "2021-09-26T06:31:37.391213",
     "status": "completed"
    },
    "tags": []
   }
  },
  {
   "cell_type": "code",
   "execution_count": 12,
   "source": [
    "start = datetime.now()\r\n",
    "history_2 = Model_2.fit(train_data, epochs = 10, validation_data = test_data)\r\n",
    "end = datetime.now()\r\n",
    "print(f\"Estimated Time elapsed for training {Model_2.name} is : {(end - start).seconds} seconds\")"
   ],
   "outputs": [
    {
     "output_type": "stream",
     "name": "stdout",
     "text": [
      "Epoch 1/10\n",
      "391/391 [==============================] - 8s 17ms/step - loss: 0.6818 - accuracy: 0.5469 - val_loss: 0.4890 - val_accuracy: 0.7677\n",
      "Epoch 2/10\n",
      "391/391 [==============================] - 8s 19ms/step - loss: 0.3952 - accuracy: 0.8445 - val_loss: 0.3275 - val_accuracy: 0.8710\n",
      "Epoch 3/10\n",
      "391/391 [==============================] - 8s 18ms/step - loss: 0.2718 - accuracy: 0.8973 - val_loss: 0.3075 - val_accuracy: 0.8792\n",
      "Epoch 4/10\n",
      "391/391 [==============================] - 7s 17ms/step - loss: 0.2278 - accuracy: 0.9128 - val_loss: 0.3055 - val_accuracy: 0.8811\n",
      "Epoch 5/10\n",
      "391/391 [==============================] - 8s 17ms/step - loss: 0.1962 - accuracy: 0.9291 - val_loss: 0.3090 - val_accuracy: 0.8821\n",
      "Epoch 6/10\n",
      "391/391 [==============================] - 8s 19ms/step - loss: 0.1771 - accuracy: 0.9367 - val_loss: 0.3234 - val_accuracy: 0.8783\n",
      "Epoch 7/10\n",
      "391/391 [==============================] - 7s 17ms/step - loss: 0.1626 - accuracy: 0.9432 - val_loss: 0.3352 - val_accuracy: 0.8785\n",
      "Epoch 8/10\n",
      "391/391 [==============================] - 7s 16ms/step - loss: 0.1426 - accuracy: 0.9512 - val_loss: 0.3570 - val_accuracy: 0.8729\n",
      "Epoch 9/10\n",
      "391/391 [==============================] - 8s 18ms/step - loss: 0.1284 - accuracy: 0.9587 - val_loss: 0.3896 - val_accuracy: 0.8676\n",
      "Epoch 10/10\n",
      "391/391 [==============================] - 7s 17ms/step - loss: 0.1202 - accuracy: 0.9597 - val_loss: 0.4174 - val_accuracy: 0.8636\n",
      "Estimated Time elapsed for training Model_2 is : 76 seconds\n"
     ]
    }
   ],
   "metadata": {
    "execution": {
     "iopub.execute_input": "2021-09-26T06:33:42.150525Z",
     "iopub.status.busy": "2021-09-26T06:33:42.149582Z",
     "iopub.status.idle": "2021-09-26T06:34:58.647555Z",
     "shell.execute_reply": "2021-09-26T06:34:58.647073Z",
     "shell.execute_reply.started": "2021-09-26T04:57:28.783435Z"
    },
    "papermill": {
     "duration": 76.895727,
     "end_time": "2021-09-26T06:34:58.647688",
     "exception": false,
     "start_time": "2021-09-26T06:33:41.751961",
     "status": "completed"
    },
    "tags": []
   }
  },
  {
   "cell_type": "code",
   "execution_count": 13,
   "source": [
    "start = datetime.now()\r\n",
    "history_3 = Model_3.fit(train_data, epochs = 10, validation_data = test_data)\r\n",
    "end = datetime.now()\r\n",
    "print(f\"Estimated Time elapsed for training {Model_3.name} is : {(end - start).seconds} seconds\")"
   ],
   "outputs": [
    {
     "output_type": "stream",
     "name": "stdout",
     "text": [
      "Epoch 1/10\n"
     ]
    },
    {
     "output_type": "stream",
     "name": "stderr",
     "text": [
      "2021-09-26 06:35:02.204432: I tensorflow/stream_executor/platform/default/dso_loader.cc:49] Successfully opened dynamic library libcudnn.so.8\n"
     ]
    },
    {
     "output_type": "stream",
     "name": "stdout",
     "text": [
      "391/391 [==============================] - 34s 70ms/step - loss: 0.6932 - accuracy: 0.5025 - val_loss: 0.6931 - val_accuracy: 0.5024\n",
      "Epoch 2/10\n",
      "391/391 [==============================] - 27s 67ms/step - loss: 0.6927 - accuracy: 0.5043 - val_loss: 0.6928 - val_accuracy: 0.5005\n",
      "Epoch 3/10\n",
      "391/391 [==============================] - 28s 70ms/step - loss: 0.6913 - accuracy: 0.5018 - val_loss: 0.6933 - val_accuracy: 0.4997\n",
      "Epoch 4/10\n",
      "391/391 [==============================] - 28s 69ms/step - loss: 0.6904 - accuracy: 0.5028 - val_loss: 0.6934 - val_accuracy: 0.5007\n",
      "Epoch 5/10\n",
      "391/391 [==============================] - 28s 70ms/step - loss: 0.6900 - accuracy: 0.4971 - val_loss: 0.6931 - val_accuracy: 0.5024\n",
      "Epoch 6/10\n",
      "391/391 [==============================] - 28s 70ms/step - loss: 0.6897 - accuracy: 0.5012 - val_loss: 0.6930 - val_accuracy: 0.5024\n",
      "Epoch 7/10\n",
      "391/391 [==============================] - 28s 69ms/step - loss: 0.6895 - accuracy: 0.5040 - val_loss: 0.6950 - val_accuracy: 0.5002\n",
      "Epoch 8/10\n",
      "391/391 [==============================] - 28s 70ms/step - loss: 0.6875 - accuracy: 0.5017 - val_loss: 0.6944 - val_accuracy: 0.5027\n",
      "Epoch 9/10\n",
      "391/391 [==============================] - 28s 70ms/step - loss: 0.6858 - accuracy: 0.5083 - val_loss: 0.6965 - val_accuracy: 0.5023\n",
      "Epoch 10/10\n",
      "391/391 [==============================] - 28s 69ms/step - loss: 0.6859 - accuracy: 0.5079 - val_loss: 0.6963 - val_accuracy: 0.4998\n",
      "Estimated Time elapsed for training Model_3 is : 286 seconds\n"
     ]
    }
   ],
   "metadata": {
    "execution": {
     "iopub.execute_input": "2021-09-26T06:34:59.837911Z",
     "iopub.status.busy": "2021-09-26T06:34:59.837148Z",
     "iopub.status.idle": "2021-09-26T06:39:45.906023Z",
     "shell.execute_reply": "2021-09-26T06:39:45.906450Z",
     "shell.execute_reply.started": "2021-09-26T04:45:02.535912Z"
    },
    "papermill": {
     "duration": 286.709519,
     "end_time": "2021-09-26T06:39:45.906609",
     "exception": false,
     "start_time": "2021-09-26T06:34:59.197090",
     "status": "completed"
    },
    "tags": []
   }
  },
  {
   "cell_type": "code",
   "execution_count": 14,
   "source": [
    "start = datetime.now()\r\n",
    "history_4 = Model_4.fit(train_data, epochs = 10, validation_data = test_data)\r\n",
    "end = datetime.now()\r\n",
    "print(f\"Estimated Time elapsed for training {Model_4.name} is : {(end - start).seconds} seconds\")"
   ],
   "outputs": [
    {
     "output_type": "stream",
     "name": "stdout",
     "text": [
      "Epoch 1/10\n",
      "391/391 [==============================] - 66s 160ms/step - loss: 0.6926 - accuracy: 0.5136 - val_loss: 0.6862 - val_accuracy: 0.6327\n",
      "Epoch 2/10\n",
      "391/391 [==============================] - 63s 158ms/step - loss: 0.6673 - accuracy: 0.5995 - val_loss: 0.6177 - val_accuracy: 0.6769\n",
      "Epoch 3/10\n",
      "391/391 [==============================] - 63s 159ms/step - loss: 0.5833 - accuracy: 0.6930 - val_loss: 0.5405 - val_accuracy: 0.7519\n",
      "Epoch 4/10\n",
      "391/391 [==============================] - 63s 160ms/step - loss: 0.4973 - accuracy: 0.7612 - val_loss: 0.4402 - val_accuracy: 0.8046\n",
      "Epoch 5/10\n",
      "391/391 [==============================] - 64s 161ms/step - loss: 0.3025 - accuracy: 0.8830 - val_loss: 0.3702 - val_accuracy: 0.8507\n",
      "Epoch 6/10\n",
      "391/391 [==============================] - 63s 160ms/step - loss: 0.2778 - accuracy: 0.8894 - val_loss: 0.3838 - val_accuracy: 0.8443\n",
      "Epoch 7/10\n",
      "391/391 [==============================] - 64s 161ms/step - loss: 0.2232 - accuracy: 0.9179 - val_loss: 0.3753 - val_accuracy: 0.8485\n",
      "Epoch 8/10\n",
      "391/391 [==============================] - 63s 160ms/step - loss: 0.1823 - accuracy: 0.9369 - val_loss: 0.3686 - val_accuracy: 0.8580\n",
      "Epoch 9/10\n",
      "391/391 [==============================] - 64s 162ms/step - loss: 0.1556 - accuracy: 0.9482 - val_loss: 0.4146 - val_accuracy: 0.8494\n",
      "Epoch 10/10\n",
      "391/391 [==============================] - 64s 163ms/step - loss: 0.1389 - accuracy: 0.9554 - val_loss: 0.4577 - val_accuracy: 0.8525\n",
      "Estimated Time elapsed for training Model_4 is : 637 seconds\n"
     ]
    }
   ],
   "metadata": {
    "execution": {
     "iopub.execute_input": "2021-09-26T06:39:48.515037Z",
     "iopub.status.busy": "2021-09-26T06:39:48.514267Z",
     "iopub.status.idle": "2021-09-26T06:50:26.234331Z",
     "shell.execute_reply": "2021-09-26T06:50:26.234715Z",
     "shell.execute_reply.started": "2021-09-26T04:45:02.545551Z"
    },
    "papermill": {
     "duration": 639.15921,
     "end_time": "2021-09-26T06:50:26.234868",
     "exception": false,
     "start_time": "2021-09-26T06:39:47.075658",
     "status": "completed"
    },
    "tags": []
   }
  },
  {
   "cell_type": "code",
   "execution_count": 15,
   "source": [
    "start = datetime.now()\r\n",
    "history_5 = Model_5.fit(train_data, epochs = 10, validation_data = test_data)\r\n",
    "end = datetime.now()\r\n",
    "print(f\"Estimated Time elapsed for training {Model_5.name} is : {(end - start).seconds} seconds\")"
   ],
   "outputs": [
    {
     "output_type": "stream",
     "name": "stdout",
     "text": [
      "Epoch 1/10\n",
      "391/391 [==============================] - 20s 47ms/step - loss: 0.6901 - accuracy: 0.5110 - val_loss: 0.6849 - val_accuracy: 0.5243\n",
      "Epoch 2/10\n",
      "391/391 [==============================] - 16s 38ms/step - loss: 0.6828 - accuracy: 0.5316 - val_loss: 0.6850 - val_accuracy: 0.5240\n",
      "Epoch 3/10\n",
      "391/391 [==============================] - 13s 32ms/step - loss: 0.6823 - accuracy: 0.5283 - val_loss: 0.6845 - val_accuracy: 0.5246\n",
      "Epoch 4/10\n",
      "391/391 [==============================] - 13s 31ms/step - loss: 0.6816 - accuracy: 0.5282 - val_loss: 0.6853 - val_accuracy: 0.5252\n",
      "Epoch 5/10\n",
      "391/391 [==============================] - 14s 34ms/step - loss: 0.6810 - accuracy: 0.5295 - val_loss: 0.6842 - val_accuracy: 0.5263\n",
      "Epoch 6/10\n",
      "391/391 [==============================] - 12s 30ms/step - loss: 0.6804 - accuracy: 0.5347 - val_loss: 0.6840 - val_accuracy: 0.5265\n",
      "Epoch 7/10\n",
      "391/391 [==============================] - 13s 32ms/step - loss: 0.6794 - accuracy: 0.5417 - val_loss: 0.6838 - val_accuracy: 0.5267\n",
      "Epoch 8/10\n",
      "391/391 [==============================] - 14s 34ms/step - loss: 0.6789 - accuracy: 0.5324 - val_loss: 0.6842 - val_accuracy: 0.5255\n",
      "Epoch 9/10\n",
      "391/391 [==============================] - 12s 30ms/step - loss: 0.6786 - accuracy: 0.5290 - val_loss: 0.6841 - val_accuracy: 0.5267\n",
      "Epoch 10/10\n",
      "391/391 [==============================] - 13s 31ms/step - loss: 0.6775 - accuracy: 0.5349 - val_loss: 0.6842 - val_accuracy: 0.5269\n",
      "Estimated Time elapsed for training Model_5 is : 140 seconds\n"
     ]
    }
   ],
   "metadata": {
    "execution": {
     "iopub.execute_input": "2021-09-26T06:50:30.610636Z",
     "iopub.status.busy": "2021-09-26T06:50:30.609745Z",
     "iopub.status.idle": "2021-09-26T06:52:53.781415Z",
     "shell.execute_reply": "2021-09-26T06:52:53.780914Z",
     "shell.execute_reply.started": "2021-09-26T04:45:02.557149Z"
    },
    "papermill": {
     "duration": 145.352674,
     "end_time": "2021-09-26T06:52:53.781537",
     "exception": false,
     "start_time": "2021-09-26T06:50:28.428863",
     "status": "completed"
    },
    "tags": []
   }
  },
  {
   "cell_type": "code",
   "execution_count": 16,
   "source": [
    "start = datetime.now()\r\n",
    "history_6 = Model_6.fit(train_data, epochs = 10, validation_data = test_data)\r\n",
    "end = datetime.now()\r\n",
    "print(f\"Estimated Time elapsed for training {Model_6.name} is : {(end - start).seconds} seconds\")"
   ],
   "outputs": [
    {
     "output_type": "stream",
     "name": "stdout",
     "text": [
      "Epoch 1/10\n",
      "391/391 [==============================] - 122s 298ms/step - loss: 0.6038 - accuracy: 0.6525 - val_loss: 0.3906 - val_accuracy: 0.8414\n",
      "Epoch 2/10\n",
      "391/391 [==============================] - 118s 299ms/step - loss: 0.3821 - accuracy: 0.8386 - val_loss: 0.6208 - val_accuracy: 0.7356\n",
      "Epoch 3/10\n",
      "391/391 [==============================] - 121s 307ms/step - loss: 0.5706 - accuracy: 0.7136 - val_loss: 0.4911 - val_accuracy: 0.7835\n",
      "Epoch 4/10\n",
      "391/391 [==============================] - 122s 309ms/step - loss: 0.3653 - accuracy: 0.8534 - val_loss: 0.4526 - val_accuracy: 0.8146\n",
      "Epoch 5/10\n",
      "391/391 [==============================] - 121s 306ms/step - loss: 0.2852 - accuracy: 0.8949 - val_loss: 0.4820 - val_accuracy: 0.7802\n",
      "Epoch 6/10\n",
      "391/391 [==============================] - 122s 309ms/step - loss: 0.2806 - accuracy: 0.8916 - val_loss: 0.4617 - val_accuracy: 0.8319\n",
      "Epoch 7/10\n",
      "391/391 [==============================] - 120s 304ms/step - loss: 0.2384 - accuracy: 0.9139 - val_loss: 0.4349 - val_accuracy: 0.8310\n",
      "Epoch 8/10\n",
      "391/391 [==============================] - 123s 311ms/step - loss: 0.1880 - accuracy: 0.9361 - val_loss: 0.4503 - val_accuracy: 0.8346\n",
      "Epoch 9/10\n",
      "391/391 [==============================] - 122s 309ms/step - loss: 0.1557 - accuracy: 0.9491 - val_loss: 0.5076 - val_accuracy: 0.8311\n",
      "Epoch 10/10\n",
      "391/391 [==============================] - 122s 310ms/step - loss: 0.1404 - accuracy: 0.9526 - val_loss: 0.5128 - val_accuracy: 0.8287\n",
      "Estimated Time elapsed for training Model_6 is : 1212 seconds\n"
     ]
    }
   ],
   "metadata": {
    "execution": {
     "iopub.execute_input": "2021-09-26T06:52:59.167254Z",
     "iopub.status.busy": "2021-09-26T06:52:59.166278Z",
     "iopub.status.idle": "2021-09-26T07:13:15.359532Z",
     "shell.execute_reply": "2021-09-26T07:13:15.358872Z"
    },
    "papermill": {
     "duration": 1218.789752,
     "end_time": "2021-09-26T07:13:15.359703",
     "exception": false,
     "start_time": "2021-09-26T06:52:56.569951",
     "status": "completed"
    },
    "tags": []
   }
  },
  {
   "cell_type": "markdown",
   "source": [
    "# All Models have been trained"
   ],
   "metadata": {
    "papermill": {
     "duration": 3.559749,
     "end_time": "2021-09-26T07:13:22.684833",
     "exception": false,
     "start_time": "2021-09-26T07:13:19.125084",
     "status": "completed"
    },
    "tags": []
   }
  },
  {
   "cell_type": "code",
   "execution_count": 17,
   "source": [
    "# compare_models([Model_1, Model_2, Model_3, Model_4, Model_5])\r\n",
    "# The function seems fine, not working. Any help would be grateful and is welcome."
   ],
   "outputs": [],
   "metadata": {
    "execution": {
     "iopub.execute_input": "2021-09-26T07:13:30.114754Z",
     "iopub.status.busy": "2021-09-26T07:13:30.113086Z",
     "iopub.status.idle": "2021-09-26T07:13:30.115336Z",
     "shell.execute_reply": "2021-09-26T07:13:30.115732Z",
     "shell.execute_reply.started": "2021-09-26T05:06:48.75086Z"
    },
    "papermill": {
     "duration": 3.922555,
     "end_time": "2021-09-26T07:13:30.115865",
     "exception": false,
     "start_time": "2021-09-26T07:13:26.193310",
     "status": "completed"
    },
    "tags": []
   }
  },
  {
   "cell_type": "code",
   "execution_count": 19,
   "source": [
    "histories = [history_1, history_2, history_3, history_4, history_5, history_6]"
   ],
   "outputs": [],
   "metadata": {
    "execution": {
     "iopub.execute_input": "2021-09-26T07:14:24.487888Z",
     "iopub.status.busy": "2021-09-26T07:14:24.486256Z",
     "iopub.status.idle": "2021-09-26T07:14:24.488492Z",
     "shell.execute_reply": "2021-09-26T07:14:24.488889Z",
     "shell.execute_reply.started": "2021-09-26T05:07:52.909599Z"
    },
    "papermill": {
     "duration": 3.762592,
     "end_time": "2021-09-26T07:14:24.489024",
     "exception": false,
     "start_time": "2021-09-26T07:14:20.726432",
     "status": "completed"
    },
    "tags": []
   }
  },
  {
   "cell_type": "code",
   "execution_count": 20,
   "source": [
    "num_rows = len(histories)\r\n",
    "fig, axes = plt.subplots(num_rows, 2, figsize = (15, 30))\r\n",
    "axarr = axes.flat\r\n",
    "\r\n",
    "for i, history in enumerate(histories):\r\n",
    "    plot_graphs(history, 'accuracy', axarr[2*i])\r\n",
    "    plot_graphs(history, 'loss', axarr[2*i + 1])"
   ],
   "outputs": [
    {
     "output_type": "display_data",
     "data": {
      "image/png": "[encoded data removed]",
      "text/plain": [
       "<Figure size 1080x2160 with 12 Axes>"
      ]
     },
     "metadata": {
      "needs_background": "light"
     }
    }
   ],
   "metadata": {
    "execution": {
     "iopub.execute_input": "2021-09-26T07:14:31.678123Z",
     "iopub.status.busy": "2021-09-26T07:14:31.664117Z",
     "iopub.status.idle": "2021-09-26T07:14:33.150461Z",
     "shell.execute_reply": "2021-09-26T07:14:33.151436Z",
     "shell.execute_reply.started": "2021-09-26T05:07:55.944688Z"
    },
    "papermill": {
     "duration": 5.069415,
     "end_time": "2021-09-26T07:14:33.151655",
     "exception": false,
     "start_time": "2021-09-26T07:14:28.082240",
     "status": "completed"
    },
    "tags": []
   }
  },
  {
   "cell_type": "markdown",
   "source": [
    "# Analysis of Performance Of Models\r\n",
    "    -> All of the models show high overfitting.\r\n",
    "    -> Even though there is rise in accuracy of train dataset, the confidence in prediction is decreasing as shown in loss (2nd Column of graphs)."
   ],
   "metadata": {}
  }
 ],
 "metadata": {
  "kernelspec": {
   "display_name": "Python 3",
   "language": "python",
   "name": "python3"
  },
  "language_info": {
   "codemirror_mode": {
    "name": "ipython",
    "version": 3
   },
   "file_extension": ".py",
   "mimetype": "text/x-python",
   "name": "python",
   "nbconvert_exporter": "python",
   "pygments_lexer": "ipython3",
   "version": "3.7.10"
  },
  "papermill": {
   "default_parameters": {},
   "duration": 2755.77229,
   "end_time": "2021-09-26T07:14:39.922790",
   "environment_variables": {},
   "exception": null,
   "input_path": "__notebook__.ipynb",
   "output_path": "__notebook__.ipynb",
   "parameters": {},
   "start_time": "2021-09-26T06:28:44.150500",
   "version": "2.3.3"
  },
  "widgets": {
   "application/vnd.jupyter.widget-state+json": {
    "state": {
     "01552064f9e84b1a8962366fbe4c13cb": {
      "model_module": "@jupyter-widgets/base",
      "model_module_version": "1.2.0",
      "model_name": "LayoutModel",
      "state": {
       "_model_module": "@jupyter-widgets/base",
       "_model_module_version": "1.2.0",
       "_model_name": "LayoutModel",
       "_view_count": null,
       "_view_module": "@jupyter-widgets/base",
       "_view_module_version": "1.2.0",
       "_view_name": "LayoutView",
       "align_content": null,
       "align_items": null,
       "align_self": null,
       "border": null,
       "bottom": null,
       "display": null,
       "flex": null,
       "flex_flow": null,
       "grid_area": null,
       "grid_auto_columns": null,
       "grid_auto_flow": null,
       "grid_auto_rows": null,
       "grid_column": null,
       "grid_gap": null,
       "grid_row": null,
       "grid_template_areas": null,
       "grid_template_columns": null,
       "grid_template_rows": null,
       "height": null,
       "justify_content": null,
       "justify_items": null,
       "left": null,
       "margin": null,
       "max_height": null,
       "max_width": null,
       "min_height": null,
       "min_width": null,
       "object_fit": null,
       "object_position": null,
       "order": null,
       "overflow": null,
       "overflow_x": null,
       "overflow_y": null,
       "padding": null,
       "right": null,
       "top": null,
       "visibility": null,
       "width": null
      }
     },
     "03a4d56d29a54eca84e11917a1cb6b93": {
      "model_module": "@jupyter-widgets/base",
      "model_module_version": "1.2.0",
      "model_name": "LayoutModel",
      "state": {
       "_model_module": "@jupyter-widgets/base",
       "_model_module_version": "1.2.0",
       "_model_name": "LayoutModel",
       "_view_count": null,
       "_view_module": "@jupyter-widgets/base",
       "_view_module_version": "1.2.0",
       "_view_name": "LayoutView",
       "align_content": null,
       "align_items": null,
       "align_self": null,
       "border": null,
       "bottom": null,
       "display": null,
       "flex": null,
       "flex_flow": null,
       "grid_area": null,
       "grid_auto_columns": null,
       "grid_auto_flow": null,
       "grid_auto_rows": null,
       "grid_column": null,
       "grid_gap": null,
       "grid_row": null,
       "grid_template_areas": null,
       "grid_template_columns": null,
       "grid_template_rows": null,
       "height": null,
       "justify_content": null,
       "justify_items": null,
       "left": null,
       "margin": null,
       "max_height": null,
       "max_width": null,
       "min_height": null,
       "min_width": null,
       "object_fit": null,
       "object_position": null,
       "order": null,
       "overflow": null,
       "overflow_x": null,
       "overflow_y": null,
       "padding": null,
       "right": null,
       "top": null,
       "visibility": null,
       "width": null
      }
     },
     "0443799244b345029a7a6fe4834ae34b": {
      "model_module": "@jupyter-widgets/controls",
      "model_module_version": "1.5.0",
      "model_name": "HTMLModel",
      "state": {
       "_dom_classes": [],
       "_model_module": "@jupyter-widgets/controls",
       "_model_module_version": "1.5.0",
       "_model_name": "HTMLModel",
       "_view_count": null,
       "_view_module": "@jupyter-widgets/controls",
       "_view_module_version": "1.5.0",
       "_view_name": "HTMLView",
       "description": "",
       "description_tooltip": null,
       "layout": "IPY_MODEL_58564795254d4e24a58032bbbd2b9844",
       "placeholder": "​",
       "style": "IPY_MODEL_9a511cb8c80f4439be53f0618f1ee4e8",
       "value": " 49981/0 [01:11&lt;00:00, 748.71 examples/s]"
      }
     },
     "04f98e70e06c4afe9755813ed33a2fbc": {
      "model_module": "@jupyter-widgets/base",
      "model_module_version": "1.2.0",
      "model_name": "LayoutModel",
      "state": {
       "_model_module": "@jupyter-widgets/base",
       "_model_module_version": "1.2.0",
       "_model_name": "LayoutModel",
       "_view_count": null,
       "_view_module": "@jupyter-widgets/base",
       "_view_module_version": "1.2.0",
       "_view_name": "LayoutView",
       "align_content": null,
       "align_items": null,
       "align_self": null,
       "border": null,
       "bottom": null,
       "display": null,
       "flex": null,
       "flex_flow": null,
       "grid_area": null,
       "grid_auto_columns": null,
       "grid_auto_flow": null,
       "grid_auto_rows": null,
       "grid_column": null,
       "grid_gap": null,
       "grid_row": null,
       "grid_template_areas": null,
       "grid_template_columns": null,
       "grid_template_rows": null,
       "height": null,
       "justify_content": null,
       "justify_items": null,
       "left": null,
       "margin": null,
       "max_height": null,
       "max_width": null,
       "min_height": null,
       "min_width": null,
       "object_fit": null,
       "object_position": null,
       "order": null,
       "overflow": null,
       "overflow_x": null,
       "overflow_y": null,
       "padding": null,
       "right": null,
       "top": null,
       "visibility": null,
       "width": null
      }
     },
     "0c4a2a5de38f4a66bddc71e799c19962": {
      "model_module": "@jupyter-widgets/controls",
      "model_module_version": "1.5.0",
      "model_name": "DescriptionStyleModel",
      "state": {
       "_model_module": "@jupyter-widgets/controls",
       "_model_module_version": "1.5.0",
       "_model_name": "DescriptionStyleModel",
       "_view_count": null,
       "_view_module": "@jupyter-widgets/base",
       "_view_module_version": "1.2.0",
       "_view_name": "StyleView",
       "description_width": ""
      }
     },
     "0d19c53f9beb43caaadd43de727dca0c": {
      "model_module": "@jupyter-widgets/controls",
      "model_module_version": "1.5.0",
      "model_name": "HTMLModel",
      "state": {
       "_dom_classes": [],
       "_model_module": "@jupyter-widgets/controls",
       "_model_module_version": "1.5.0",
       "_model_name": "HTMLModel",
       "_view_count": null,
       "_view_module": "@jupyter-widgets/controls",
       "_view_module_version": "1.5.0",
       "_view_name": "HTMLView",
       "description": "",
       "description_tooltip": null,
       "layout": "IPY_MODEL_5e4012a467554d7e9d268be1ed68ce12",
       "placeholder": "​",
       "style": "IPY_MODEL_970fa23725474821b7ea7f9aa17bbb61",
       "value": "100%"
      }
     },
     "0d3a406af12643dfba31d8f81b0b5914": {
      "model_module": "@jupyter-widgets/controls",
      "model_module_version": "1.5.0",
      "model_name": "ProgressStyleModel",
      "state": {
       "_model_module": "@jupyter-widgets/controls",
       "_model_module_version": "1.5.0",
       "_model_name": "ProgressStyleModel",
       "_view_count": null,
       "_view_module": "@jupyter-widgets/base",
       "_view_module_version": "1.2.0",
       "_view_name": "StyleView",
       "bar_color": null,
       "description_width": ""
      }
     },
     "12cb4d26e85f4a758d8601ea40d25bd5": {
      "model_module": "@jupyter-widgets/controls",
      "model_module_version": "1.5.0",
      "model_name": "HTMLModel",
      "state": {
       "_dom_classes": [],
       "_model_module": "@jupyter-widgets/controls",
       "_model_module_version": "1.5.0",
       "_model_name": "HTMLModel",
       "_view_count": null,
       "_view_module": "@jupyter-widgets/controls",
       "_view_module_version": "1.5.0",
       "_view_name": "HTMLView",
       "description": "",
       "description_tooltip": null,
       "layout": "IPY_MODEL_19a056fcccaf4763b7661ef86c364703",
       "placeholder": "​",
       "style": "IPY_MODEL_36aecda30c2740d58c45340be4fee850",
       "value": " 24992/0 [00:33&lt;00:00, 801.80 examples/s]"
      }
     },
     "14ee8e9776034c159bb2d61eb1117b1b": {
      "model_module": "@jupyter-widgets/base",
      "model_module_version": "1.2.0",
      "model_name": "LayoutModel",
      "state": {
       "_model_module": "@jupyter-widgets/base",
       "_model_module_version": "1.2.0",
       "_model_name": "LayoutModel",
       "_view_count": null,
       "_view_module": "@jupyter-widgets/base",
       "_view_module_version": "1.2.0",
       "_view_name": "LayoutView",
       "align_content": null,
       "align_items": null,
       "align_self": null,
       "border": null,
       "bottom": null,
       "display": null,
       "flex": null,
       "flex_flow": null,
       "grid_area": null,
       "grid_auto_columns": null,
       "grid_auto_flow": null,
       "grid_auto_rows": null,
       "grid_column": null,
       "grid_gap": null,
       "grid_row": null,
       "grid_template_areas": null,
       "grid_template_columns": null,
       "grid_template_rows": null,
       "height": null,
       "justify_content": null,
       "justify_items": null,
       "left": null,
       "margin": null,
       "max_height": null,
       "max_width": null,
       "min_height": null,
       "min_width": null,
       "object_fit": null,
       "object_position": null,
       "order": null,
       "overflow": null,
       "overflow_x": null,
       "overflow_y": null,
       "padding": null,
       "right": null,
       "top": null,
       "visibility": null,
       "width": "20px"
      }
     },
     "16ae2b40890842b3a354b8102931d550": {
      "model_module": "@jupyter-widgets/base",
      "model_module_version": "1.2.0",
      "model_name": "LayoutModel",
      "state": {
       "_model_module": "@jupyter-widgets/base",
       "_model_module_version": "1.2.0",
       "_model_name": "LayoutModel",
       "_view_count": null,
       "_view_module": "@jupyter-widgets/base",
       "_view_module_version": "1.2.0",
       "_view_name": "LayoutView",
       "align_content": null,
       "align_items": null,
       "align_self": null,
       "border": null,
       "bottom": null,
       "display": null,
       "flex": null,
       "flex_flow": null,
       "grid_area": null,
       "grid_auto_columns": null,
       "grid_auto_flow": null,
       "grid_auto_rows": null,
       "grid_column": null,
       "grid_gap": null,
       "grid_row": null,
       "grid_template_areas": null,
       "grid_template_columns": null,
       "grid_template_rows": null,
       "height": null,
       "justify_content": null,
       "justify_items": null,
       "left": null,
       "margin": null,
       "max_height": null,
       "max_width": null,
       "min_height": null,
       "min_width": null,
       "object_fit": null,
       "object_position": null,
       "order": null,
       "overflow": null,
       "overflow_x": null,
       "overflow_y": null,
       "padding": null,
       "right": null,
       "top": null,
       "visibility": null,
       "width": null
      }
     },
     "1839f6314e7f4bdeb6b835686ec9894f": {
      "model_module": "@jupyter-widgets/base",
      "model_module_version": "1.2.0",
      "model_name": "LayoutModel",
      "state": {
       "_model_module": "@jupyter-widgets/base",
       "_model_module_version": "1.2.0",
       "_model_name": "LayoutModel",
       "_view_count": null,
       "_view_module": "@jupyter-widgets/base",
       "_view_module_version": "1.2.0",
       "_view_name": "LayoutView",
       "align_content": null,
       "align_items": null,
       "align_self": null,
       "border": null,
       "bottom": null,
       "display": null,
       "flex": null,
       "flex_flow": null,
       "grid_area": null,
       "grid_auto_columns": null,
       "grid_auto_flow": null,
       "grid_auto_rows": null,
       "grid_column": null,
       "grid_gap": null,
       "grid_row": null,
       "grid_template_areas": null,
       "grid_template_columns": null,
       "grid_template_rows": null,
       "height": null,
       "justify_content": null,
       "justify_items": null,
       "left": null,
       "margin": null,
       "max_height": null,
       "max_width": null,
       "min_height": null,
       "min_width": null,
       "object_fit": null,
       "object_position": null,
       "order": null,
       "overflow": null,
       "overflow_x": null,
       "overflow_y": null,
       "padding": null,
       "right": null,
       "top": null,
       "visibility": null,
       "width": null
      }
     },
     "19445c8fb7b34e878dc99d7f95c425a0": {
      "model_module": "@jupyter-widgets/base",
      "model_module_version": "1.2.0",
      "model_name": "LayoutModel",
      "state": {
       "_model_module": "@jupyter-widgets/base",
       "_model_module_version": "1.2.0",
       "_model_name": "LayoutModel",
       "_view_count": null,
       "_view_module": "@jupyter-widgets/base",
       "_view_module_version": "1.2.0",
       "_view_name": "LayoutView",
       "align_content": null,
       "align_items": null,
       "align_self": null,
       "border": null,
       "bottom": null,
       "display": null,
       "flex": null,
       "flex_flow": null,
       "grid_area": null,
       "grid_auto_columns": null,
       "grid_auto_flow": null,
       "grid_auto_rows": null,
       "grid_column": null,
       "grid_gap": null,
       "grid_row": null,
       "grid_template_areas": null,
       "grid_template_columns": null,
       "grid_template_rows": null,
       "height": null,
       "justify_content": null,
       "justify_items": null,
       "left": null,
       "margin": null,
       "max_height": null,
       "max_width": null,
       "min_height": null,
       "min_width": null,
       "object_fit": null,
       "object_position": null,
       "order": null,
       "overflow": null,
       "overflow_x": null,
       "overflow_y": null,
       "padding": null,
       "right": null,
       "top": null,
       "visibility": null,
       "width": null
      }
     },
     "19a056fcccaf4763b7661ef86c364703": {
      "model_module": "@jupyter-widgets/base",
      "model_module_version": "1.2.0",
      "model_name": "LayoutModel",
      "state": {
       "_model_module": "@jupyter-widgets/base",
       "_model_module_version": "1.2.0",
       "_model_name": "LayoutModel",
       "_view_count": null,
       "_view_module": "@jupyter-widgets/base",
       "_view_module_version": "1.2.0",
       "_view_name": "LayoutView",
       "align_content": null,
       "align_items": null,
       "align_self": null,
       "border": null,
       "bottom": null,
       "display": null,
       "flex": null,
       "flex_flow": null,
       "grid_area": null,
       "grid_auto_columns": null,
       "grid_auto_flow": null,
       "grid_auto_rows": null,
       "grid_column": null,
       "grid_gap": null,
       "grid_row": null,
       "grid_template_areas": null,
       "grid_template_columns": null,
       "grid_template_rows": null,
       "height": null,
       "justify_content": null,
       "justify_items": null,
       "left": null,
       "margin": null,
       "max_height": null,
       "max_width": null,
       "min_height": null,
       "min_width": null,
       "object_fit": null,
       "object_position": null,
       "order": null,
       "overflow": null,
       "overflow_x": null,
       "overflow_y": null,
       "padding": null,
       "right": null,
       "top": null,
       "visibility": null,
       "width": null
      }
     },
     "1b524eb6624b482aa2aa68cb254c5552": {
      "model_module": "@jupyter-widgets/controls",
      "model_module_version": "1.5.0",
      "model_name": "ProgressStyleModel",
      "state": {
       "_model_module": "@jupyter-widgets/controls",
       "_model_module_version": "1.5.0",
       "_model_name": "ProgressStyleModel",
       "_view_count": null,
       "_view_module": "@jupyter-widgets/base",
       "_view_module_version": "1.2.0",
       "_view_name": "StyleView",
       "bar_color": null,
       "description_width": ""
      }
     },
     "1b8a3814fcc043d29d8361aa3f8db490": {
      "model_module": "@jupyter-widgets/base",
      "model_module_version": "1.2.0",
      "model_name": "LayoutModel",
      "state": {
       "_model_module": "@jupyter-widgets/base",
       "_model_module_version": "1.2.0",
       "_model_name": "LayoutModel",
       "_view_count": null,
       "_view_module": "@jupyter-widgets/base",
       "_view_module_version": "1.2.0",
       "_view_name": "LayoutView",
       "align_content": null,
       "align_items": null,
       "align_self": null,
       "border": null,
       "bottom": null,
       "display": null,
       "flex": null,
       "flex_flow": null,
       "grid_area": null,
       "grid_auto_columns": null,
       "grid_auto_flow": null,
       "grid_auto_rows": null,
       "grid_column": null,
       "grid_gap": null,
       "grid_row": null,
       "grid_template_areas": null,
       "grid_template_columns": null,
       "grid_template_rows": null,
       "height": null,
       "justify_content": null,
       "justify_items": null,
       "left": null,
       "margin": null,
       "max_height": null,
       "max_width": null,
       "min_height": null,
       "min_width": null,
       "object_fit": null,
       "object_position": null,
       "order": null,
       "overflow": null,
       "overflow_x": null,
       "overflow_y": null,
       "padding": null,
       "right": null,
       "top": null,
       "visibility": null,
       "width": null
      }
     },
     "1e96f8922ba74d339badf92d7b3dcd0d": {
      "model_module": "@jupyter-widgets/controls",
      "model_module_version": "1.5.0",
      "model_name": "HTMLModel",
      "state": {
       "_dom_classes": [],
       "_model_module": "@jupyter-widgets/controls",
       "_model_module_version": "1.5.0",
       "_model_name": "HTMLModel",
       "_view_count": null,
       "_view_module": "@jupyter-widgets/controls",
       "_view_module_version": "1.5.0",
       "_view_name": "HTMLView",
       "description": "",
       "description_tooltip": null,
       "layout": "IPY_MODEL_d6e195005b9445968668e4777462e52a",
       "placeholder": "​",
       "style": "IPY_MODEL_7ed99e1dee3c44799273a84c6fa75aab",
       "value": ""
      }
     },
     "22419e41128543cf8aa747d26de7c2f7": {
      "model_module": "@jupyter-widgets/base",
      "model_module_version": "1.2.0",
      "model_name": "LayoutModel",
      "state": {
       "_model_module": "@jupyter-widgets/base",
       "_model_module_version": "1.2.0",
       "_model_name": "LayoutModel",
       "_view_count": null,
       "_view_module": "@jupyter-widgets/base",
       "_view_module_version": "1.2.0",
       "_view_name": "LayoutView",
       "align_content": null,
       "align_items": null,
       "align_self": null,
       "border": null,
       "bottom": null,
       "display": null,
       "flex": null,
       "flex_flow": null,
       "grid_area": null,
       "grid_auto_columns": null,
       "grid_auto_flow": null,
       "grid_auto_rows": null,
       "grid_column": null,
       "grid_gap": null,
       "grid_row": null,
       "grid_template_areas": null,
       "grid_template_columns": null,
       "grid_template_rows": null,
       "height": null,
       "justify_content": null,
       "justify_items": null,
       "left": null,
       "margin": null,
       "max_height": null,
       "max_width": null,
       "min_height": null,
       "min_width": null,
       "object_fit": null,
       "object_position": null,
       "order": null,
       "overflow": null,
       "overflow_x": null,
       "overflow_y": null,
       "padding": null,
       "right": null,
       "top": null,
       "visibility": null,
       "width": "20px"
      }
     },
     "22b219416d72489fa70a6727143e6f49": {
      "model_module": "@jupyter-widgets/base",
      "model_module_version": "1.2.0",
      "model_name": "LayoutModel",
      "state": {
       "_model_module": "@jupyter-widgets/base",
       "_model_module_version": "1.2.0",
       "_model_name": "LayoutModel",
       "_view_count": null,
       "_view_module": "@jupyter-widgets/base",
       "_view_module_version": "1.2.0",
       "_view_name": "LayoutView",
       "align_content": null,
       "align_items": null,
       "align_self": null,
       "border": null,
       "bottom": null,
       "display": null,
       "flex": null,
       "flex_flow": null,
       "grid_area": null,
       "grid_auto_columns": null,
       "grid_auto_flow": null,
       "grid_auto_rows": null,
       "grid_column": null,
       "grid_gap": null,
       "grid_row": null,
       "grid_template_areas": null,
       "grid_template_columns": null,
       "grid_template_rows": null,
       "height": null,
       "justify_content": null,
       "justify_items": null,
       "left": null,
       "margin": null,
       "max_height": null,
       "max_width": null,
       "min_height": null,
       "min_width": null,
       "object_fit": null,
       "object_position": null,
       "order": null,
       "overflow": null,
       "overflow_x": null,
       "overflow_y": null,
       "padding": null,
       "right": null,
       "top": null,
       "visibility": null,
       "width": null
      }
     },
     "248d4e2632214ac1962bb9a80b6031e7": {
      "model_module": "@jupyter-widgets/controls",
      "model_module_version": "1.5.0",
      "model_name": "DescriptionStyleModel",
      "state": {
       "_model_module": "@jupyter-widgets/controls",
       "_model_module_version": "1.5.0",
       "_model_name": "DescriptionStyleModel",
       "_view_count": null,
       "_view_module": "@jupyter-widgets/base",
       "_view_module_version": "1.2.0",
       "_view_name": "StyleView",
       "description_width": ""
      }
     },
     "256a08392964485b918ee7371249bf03": {
      "model_module": "@jupyter-widgets/controls",
      "model_module_version": "1.5.0",
      "model_name": "HBoxModel",
      "state": {
       "_dom_classes": [],
       "_model_module": "@jupyter-widgets/controls",
       "_model_module_version": "1.5.0",
       "_model_name": "HBoxModel",
       "_view_count": null,
       "_view_module": "@jupyter-widgets/controls",
       "_view_module_version": "1.5.0",
       "_view_name": "HBoxView",
       "box_style": "",
       "children": [
        "IPY_MODEL_28a1a7cd65964a20802fb7f692fafc1a",
        "IPY_MODEL_38cd0f3ae904491a8ecf399d12a43119",
        "IPY_MODEL_da5fa5d28c584c1194e9b884c81bfc49"
       ],
       "layout": "IPY_MODEL_1839f6314e7f4bdeb6b835686ec9894f"
      }
     },
     "288ffd0dccbb4b19bbe4de3363b0d5cf": {
      "model_module": "@jupyter-widgets/base",
      "model_module_version": "1.2.0",
      "model_name": "LayoutModel",
      "state": {
       "_model_module": "@jupyter-widgets/base",
       "_model_module_version": "1.2.0",
       "_model_name": "LayoutModel",
       "_view_count": null,
       "_view_module": "@jupyter-widgets/base",
       "_view_module_version": "1.2.0",
       "_view_name": "LayoutView",
       "align_content": null,
       "align_items": null,
       "align_self": null,
       "border": null,
       "bottom": null,
       "display": null,
       "flex": null,
       "flex_flow": null,
       "grid_area": null,
       "grid_auto_columns": null,
       "grid_auto_flow": null,
       "grid_auto_rows": null,
       "grid_column": null,
       "grid_gap": null,
       "grid_row": null,
       "grid_template_areas": null,
       "grid_template_columns": null,
       "grid_template_rows": null,
       "height": null,
       "justify_content": null,
       "justify_items": null,
       "left": null,
       "margin": null,
       "max_height": null,
       "max_width": null,
       "min_height": null,
       "min_width": null,
       "object_fit": null,
       "object_position": null,
       "order": null,
       "overflow": null,
       "overflow_x": null,
       "overflow_y": null,
       "padding": null,
       "right": null,
       "top": null,
       "visibility": null,
       "width": null
      }
     },
     "289a50d366c04470a177cbe819b38614": {
      "model_module": "@jupyter-widgets/controls",
      "model_module_version": "1.5.0",
      "model_name": "DescriptionStyleModel",
      "state": {
       "_model_module": "@jupyter-widgets/controls",
       "_model_module_version": "1.5.0",
       "_model_name": "DescriptionStyleModel",
       "_view_count": null,
       "_view_module": "@jupyter-widgets/base",
       "_view_module_version": "1.2.0",
       "_view_name": "StyleView",
       "description_width": ""
      }
     },
     "28a1a7cd65964a20802fb7f692fafc1a": {
      "model_module": "@jupyter-widgets/controls",
      "model_module_version": "1.5.0",
      "model_name": "HTMLModel",
      "state": {
       "_dom_classes": [],
       "_model_module": "@jupyter-widgets/controls",
       "_model_module_version": "1.5.0",
       "_model_name": "HTMLModel",
       "_view_count": null,
       "_view_module": "@jupyter-widgets/controls",
       "_view_module_version": "1.5.0",
       "_view_name": "HTMLView",
       "description": "",
       "description_tooltip": null,
       "layout": "IPY_MODEL_01552064f9e84b1a8962366fbe4c13cb",
       "placeholder": "​",
       "style": "IPY_MODEL_289a50d366c04470a177cbe819b38614",
       "value": "100%"
      }
     },
     "2c686f45f7354ad8847269f3b86ab4c9": {
      "model_module": "@jupyter-widgets/controls",
      "model_module_version": "1.5.0",
      "model_name": "HBoxModel",
      "state": {
       "_dom_classes": [],
       "_model_module": "@jupyter-widgets/controls",
       "_model_module_version": "1.5.0",
       "_model_name": "HBoxModel",
       "_view_count": null,
       "_view_module": "@jupyter-widgets/controls",
       "_view_module_version": "1.5.0",
       "_view_name": "HBoxView",
       "box_style": "",
       "children": [
        "IPY_MODEL_6506d002b3da4e469a7367abae3206fd",
        "IPY_MODEL_43ef2fb363c64cbda2eeb4ce9ecb1d6e",
        "IPY_MODEL_c40a38344a2f495dbfdac11287c3a21e"
       ],
       "layout": "IPY_MODEL_1b8a3814fcc043d29d8361aa3f8db490"
      }
     },
     "2df9bec2ba8941d18430771478ea3997": {
      "model_module": "@jupyter-widgets/controls",
      "model_module_version": "1.5.0",
      "model_name": "DescriptionStyleModel",
      "state": {
       "_model_module": "@jupyter-widgets/controls",
       "_model_module_version": "1.5.0",
       "_model_name": "DescriptionStyleModel",
       "_view_count": null,
       "_view_module": "@jupyter-widgets/base",
       "_view_module_version": "1.2.0",
       "_view_name": "StyleView",
       "description_width": ""
      }
     },
     "35e03c9b654b4676baac21e8bc1c7150": {
      "model_module": "@jupyter-widgets/controls",
      "model_module_version": "1.5.0",
      "model_name": "HBoxModel",
      "state": {
       "_dom_classes": [],
       "_model_module": "@jupyter-widgets/controls",
       "_model_module_version": "1.5.0",
       "_model_name": "HBoxModel",
       "_view_count": null,
       "_view_module": "@jupyter-widgets/controls",
       "_view_module_version": "1.5.0",
       "_view_name": "HBoxView",
       "box_style": "",
       "children": [
        "IPY_MODEL_1e96f8922ba74d339badf92d7b3dcd0d",
        "IPY_MODEL_763f624f405d485e9a3712cd99debacb",
        "IPY_MODEL_12cb4d26e85f4a758d8601ea40d25bd5"
       ],
       "layout": "IPY_MODEL_288ffd0dccbb4b19bbe4de3363b0d5cf"
      }
     },
     "3620dedcb10b48e58290f053a106ca5e": {
      "model_module": "@jupyter-widgets/controls",
      "model_module_version": "1.5.0",
      "model_name": "ProgressStyleModel",
      "state": {
       "_model_module": "@jupyter-widgets/controls",
       "_model_module_version": "1.5.0",
       "_model_name": "ProgressStyleModel",
       "_view_count": null,
       "_view_module": "@jupyter-widgets/base",
       "_view_module_version": "1.2.0",
       "_view_name": "StyleView",
       "bar_color": null,
       "description_width": ""
      }
     },
     "36aecda30c2740d58c45340be4fee850": {
      "model_module": "@jupyter-widgets/controls",
      "model_module_version": "1.5.0",
      "model_name": "DescriptionStyleModel",
      "state": {
       "_model_module": "@jupyter-widgets/controls",
       "_model_module_version": "1.5.0",
       "_model_name": "DescriptionStyleModel",
       "_view_count": null,
       "_view_module": "@jupyter-widgets/base",
       "_view_module_version": "1.2.0",
       "_view_name": "StyleView",
       "description_width": ""
      }
     },
     "38cd0f3ae904491a8ecf399d12a43119": {
      "model_module": "@jupyter-widgets/controls",
      "model_module_version": "1.5.0",
      "model_name": "FloatProgressModel",
      "state": {
       "_dom_classes": [],
       "_model_module": "@jupyter-widgets/controls",
       "_model_module_version": "1.5.0",
       "_model_name": "FloatProgressModel",
       "_view_count": null,
       "_view_module": "@jupyter-widgets/controls",
       "_view_module_version": "1.5.0",
       "_view_name": "ProgressView",
       "bar_style": "danger",
       "description": "",
       "description_tooltip": null,
       "layout": "IPY_MODEL_16ae2b40890842b3a354b8102931d550",
       "max": 25000,
       "min": 0,
       "orientation": "horizontal",
       "style": "IPY_MODEL_3620dedcb10b48e58290f053a106ca5e",
       "value": 24999
      }
     },
     "38d354e40dba41f1a5959ea61db9e80e": {
      "model_module": "@jupyter-widgets/base",
      "model_module_version": "1.2.0",
      "model_name": "LayoutModel",
      "state": {
       "_model_module": "@jupyter-widgets/base",
       "_model_module_version": "1.2.0",
       "_model_name": "LayoutModel",
       "_view_count": null,
       "_view_module": "@jupyter-widgets/base",
       "_view_module_version": "1.2.0",
       "_view_name": "LayoutView",
       "align_content": null,
       "align_items": null,
       "align_self": null,
       "border": null,
       "bottom": null,
       "display": null,
       "flex": null,
       "flex_flow": null,
       "grid_area": null,
       "grid_auto_columns": null,
       "grid_auto_flow": null,
       "grid_auto_rows": null,
       "grid_column": null,
       "grid_gap": null,
       "grid_row": null,
       "grid_template_areas": null,
       "grid_template_columns": null,
       "grid_template_rows": null,
       "height": null,
       "justify_content": null,
       "justify_items": null,
       "left": null,
       "margin": null,
       "max_height": null,
       "max_width": null,
       "min_height": null,
       "min_width": null,
       "object_fit": null,
       "object_position": null,
       "order": null,
       "overflow": null,
       "overflow_x": null,
       "overflow_y": null,
       "padding": null,
       "right": null,
       "top": null,
       "visibility": null,
       "width": null
      }
     },
     "3ab949fdcba447cc8779264a27a31b35": {
      "model_module": "@jupyter-widgets/controls",
      "model_module_version": "1.5.0",
      "model_name": "FloatProgressModel",
      "state": {
       "_dom_classes": [],
       "_model_module": "@jupyter-widgets/controls",
       "_model_module_version": "1.5.0",
       "_model_name": "FloatProgressModel",
       "_view_count": null,
       "_view_module": "@jupyter-widgets/controls",
       "_view_module_version": "1.5.0",
       "_view_name": "ProgressView",
       "bar_style": "info",
       "description": "",
       "description_tooltip": null,
       "layout": "IPY_MODEL_e80b52f652e54c469674e016b8fa07be",
       "max": 1,
       "min": 0,
       "orientation": "horizontal",
       "style": "IPY_MODEL_d1c250c2d26e40148508301a613ebb70",
       "value": 1
      }
     },
     "3c62b2e5051641539288cdd813d11828": {
      "model_module": "@jupyter-widgets/base",
      "model_module_version": "1.2.0",
      "model_name": "LayoutModel",
      "state": {
       "_model_module": "@jupyter-widgets/base",
       "_model_module_version": "1.2.0",
       "_model_name": "LayoutModel",
       "_view_count": null,
       "_view_module": "@jupyter-widgets/base",
       "_view_module_version": "1.2.0",
       "_view_name": "LayoutView",
       "align_content": null,
       "align_items": null,
       "align_self": null,
       "border": null,
       "bottom": null,
       "display": null,
       "flex": null,
       "flex_flow": null,
       "grid_area": null,
       "grid_auto_columns": null,
       "grid_auto_flow": null,
       "grid_auto_rows": null,
       "grid_column": null,
       "grid_gap": null,
       "grid_row": null,
       "grid_template_areas": null,
       "grid_template_columns": null,
       "grid_template_rows": null,
       "height": null,
       "justify_content": null,
       "justify_items": null,
       "left": null,
       "margin": null,
       "max_height": null,
       "max_width": null,
       "min_height": null,
       "min_width": null,
       "object_fit": null,
       "object_position": null,
       "order": null,
       "overflow": null,
       "overflow_x": null,
       "overflow_y": null,
       "padding": null,
       "right": null,
       "top": null,
       "visibility": null,
       "width": null
      }
     },
     "410d7c4f33de43518ca8a4a890ff48b7": {
      "model_module": "@jupyter-widgets/controls",
      "model_module_version": "1.5.0",
      "model_name": "DescriptionStyleModel",
      "state": {
       "_model_module": "@jupyter-widgets/controls",
       "_model_module_version": "1.5.0",
       "_model_name": "DescriptionStyleModel",
       "_view_count": null,
       "_view_module": "@jupyter-widgets/base",
       "_view_module_version": "1.2.0",
       "_view_name": "StyleView",
       "description_width": ""
      }
     },
     "43ef2fb363c64cbda2eeb4ce9ecb1d6e": {
      "model_module": "@jupyter-widgets/controls",
      "model_module_version": "1.5.0",
      "model_name": "FloatProgressModel",
      "state": {
       "_dom_classes": [],
       "_model_module": "@jupyter-widgets/controls",
       "_model_module_version": "1.5.0",
       "_model_name": "FloatProgressModel",
       "_view_count": null,
       "_view_module": "@jupyter-widgets/controls",
       "_view_module_version": "1.5.0",
       "_view_name": "ProgressView",
       "bar_style": "success",
       "description": "",
       "description_tooltip": null,
       "layout": "IPY_MODEL_d637c01ed0514389b867ac814dc64a7e",
       "max": 1,
       "min": 0,
       "orientation": "horizontal",
       "style": "IPY_MODEL_e5a5af4babfd428ea9bc853a18cbf70c",
       "value": 1
      }
     },
     "47fa733ada0f470d9f4d3457ef0d1a9c": {
      "model_module": "@jupyter-widgets/controls",
      "model_module_version": "1.5.0",
      "model_name": "HTMLModel",
      "state": {
       "_dom_classes": [],
       "_model_module": "@jupyter-widgets/controls",
       "_model_module_version": "1.5.0",
       "_model_name": "HTMLModel",
       "_view_count": null,
       "_view_module": "@jupyter-widgets/controls",
       "_view_module_version": "1.5.0",
       "_view_name": "HTMLView",
       "description": "",
       "description_tooltip": null,
       "layout": "IPY_MODEL_d7ca5149c839480c94cb64c7b2cdfda7",
       "placeholder": "​",
       "style": "IPY_MODEL_ede2034b09e94560b60f36daeb92f494",
       "value": " 1/1 [00:01&lt;00:00,  1.90s/ url]"
      }
     },
     "4bdd39f888fa47de95205637ccf1130b": {
      "model_module": "@jupyter-widgets/base",
      "model_module_version": "1.2.0",
      "model_name": "LayoutModel",
      "state": {
       "_model_module": "@jupyter-widgets/base",
       "_model_module_version": "1.2.0",
       "_model_name": "LayoutModel",
       "_view_count": null,
       "_view_module": "@jupyter-widgets/base",
       "_view_module_version": "1.2.0",
       "_view_name": "LayoutView",
       "align_content": null,
       "align_items": null,
       "align_self": null,
       "border": null,
       "bottom": null,
       "display": null,
       "flex": null,
       "flex_flow": null,
       "grid_area": null,
       "grid_auto_columns": null,
       "grid_auto_flow": null,
       "grid_auto_rows": null,
       "grid_column": null,
       "grid_gap": null,
       "grid_row": null,
       "grid_template_areas": null,
       "grid_template_columns": null,
       "grid_template_rows": null,
       "height": null,
       "justify_content": null,
       "justify_items": null,
       "left": null,
       "margin": null,
       "max_height": null,
       "max_width": null,
       "min_height": null,
       "min_width": null,
       "object_fit": null,
       "object_position": null,
       "order": null,
       "overflow": null,
       "overflow_x": null,
       "overflow_y": null,
       "padding": null,
       "right": null,
       "top": null,
       "visibility": null,
       "width": null
      }
     },
     "5011a1c87bcf45b990bc4a76c46451ea": {
      "model_module": "@jupyter-widgets/controls",
      "model_module_version": "1.5.0",
      "model_name": "HBoxModel",
      "state": {
       "_dom_classes": [],
       "_model_module": "@jupyter-widgets/controls",
       "_model_module_version": "1.5.0",
       "_model_name": "HBoxModel",
       "_view_count": null,
       "_view_module": "@jupyter-widgets/controls",
       "_view_module_version": "1.5.0",
       "_view_name": "HBoxView",
       "box_style": "",
       "children": [
        "IPY_MODEL_cb678bb186944f85ac1e3f9402bf42b9",
        "IPY_MODEL_78f76cf7e9cd4efbb1a9f5ee796166c3",
        "IPY_MODEL_47fa733ada0f470d9f4d3457ef0d1a9c"
       ],
       "layout": "IPY_MODEL_e26f51c9adfb4920be67589e0b576538"
      }
     },
     "554d0d9c994e4005a82910f58f32a15c": {
      "model_module": "@jupyter-widgets/base",
      "model_module_version": "1.2.0",
      "model_name": "LayoutModel",
      "state": {
       "_model_module": "@jupyter-widgets/base",
       "_model_module_version": "1.2.0",
       "_model_name": "LayoutModel",
       "_view_count": null,
       "_view_module": "@jupyter-widgets/base",
       "_view_module_version": "1.2.0",
       "_view_name": "LayoutView",
       "align_content": null,
       "align_items": null,
       "align_self": null,
       "border": null,
       "bottom": null,
       "display": null,
       "flex": null,
       "flex_flow": null,
       "grid_area": null,
       "grid_auto_columns": null,
       "grid_auto_flow": null,
       "grid_auto_rows": null,
       "grid_column": null,
       "grid_gap": null,
       "grid_row": null,
       "grid_template_areas": null,
       "grid_template_columns": null,
       "grid_template_rows": null,
       "height": null,
       "justify_content": null,
       "justify_items": null,
       "left": null,
       "margin": null,
       "max_height": null,
       "max_width": null,
       "min_height": null,
       "min_width": null,
       "object_fit": null,
       "object_position": null,
       "order": null,
       "overflow": null,
       "overflow_x": null,
       "overflow_y": null,
       "padding": null,
       "right": null,
       "top": null,
       "visibility": null,
       "width": null
      }
     },
     "58564795254d4e24a58032bbbd2b9844": {
      "model_module": "@jupyter-widgets/base",
      "model_module_version": "1.2.0",
      "model_name": "LayoutModel",
      "state": {
       "_model_module": "@jupyter-widgets/base",
       "_model_module_version": "1.2.0",
       "_model_name": "LayoutModel",
       "_view_count": null,
       "_view_module": "@jupyter-widgets/base",
       "_view_module_version": "1.2.0",
       "_view_name": "LayoutView",
       "align_content": null,
       "align_items": null,
       "align_self": null,
       "border": null,
       "bottom": null,
       "display": null,
       "flex": null,
       "flex_flow": null,
       "grid_area": null,
       "grid_auto_columns": null,
       "grid_auto_flow": null,
       "grid_auto_rows": null,
       "grid_column": null,
       "grid_gap": null,
       "grid_row": null,
       "grid_template_areas": null,
       "grid_template_columns": null,
       "grid_template_rows": null,
       "height": null,
       "justify_content": null,
       "justify_items": null,
       "left": null,
       "margin": null,
       "max_height": null,
       "max_width": null,
       "min_height": null,
       "min_width": null,
       "object_fit": null,
       "object_position": null,
       "order": null,
       "overflow": null,
       "overflow_x": null,
       "overflow_y": null,
       "padding": null,
       "right": null,
       "top": null,
       "visibility": null,
       "width": null
      }
     },
     "5e4012a467554d7e9d268be1ed68ce12": {
      "model_module": "@jupyter-widgets/base",
      "model_module_version": "1.2.0",
      "model_name": "LayoutModel",
      "state": {
       "_model_module": "@jupyter-widgets/base",
       "_model_module_version": "1.2.0",
       "_model_name": "LayoutModel",
       "_view_count": null,
       "_view_module": "@jupyter-widgets/base",
       "_view_module_version": "1.2.0",
       "_view_name": "LayoutView",
       "align_content": null,
       "align_items": null,
       "align_self": null,
       "border": null,
       "bottom": null,
       "display": null,
       "flex": null,
       "flex_flow": null,
       "grid_area": null,
       "grid_auto_columns": null,
       "grid_auto_flow": null,
       "grid_auto_rows": null,
       "grid_column": null,
       "grid_gap": null,
       "grid_row": null,
       "grid_template_areas": null,
       "grid_template_columns": null,
       "grid_template_rows": null,
       "height": null,
       "justify_content": null,
       "justify_items": null,
       "left": null,
       "margin": null,
       "max_height": null,
       "max_width": null,
       "min_height": null,
       "min_width": null,
       "object_fit": null,
       "object_position": null,
       "order": null,
       "overflow": null,
       "overflow_x": null,
       "overflow_y": null,
       "padding": null,
       "right": null,
       "top": null,
       "visibility": null,
       "width": null
      }
     },
     "5e7587b048644329953777674607e7e7": {
      "model_module": "@jupyter-widgets/controls",
      "model_module_version": "1.5.0",
      "model_name": "DescriptionStyleModel",
      "state": {
       "_model_module": "@jupyter-widgets/controls",
       "_model_module_version": "1.5.0",
       "_model_name": "DescriptionStyleModel",
       "_view_count": null,
       "_view_module": "@jupyter-widgets/base",
       "_view_module_version": "1.2.0",
       "_view_name": "StyleView",
       "description_width": ""
      }
     },
     "6506d002b3da4e469a7367abae3206fd": {
      "model_module": "@jupyter-widgets/controls",
      "model_module_version": "1.5.0",
      "model_name": "HTMLModel",
      "state": {
       "_dom_classes": [],
       "_model_module": "@jupyter-widgets/controls",
       "_model_module_version": "1.5.0",
       "_model_name": "HTMLModel",
       "_view_count": null,
       "_view_module": "@jupyter-widgets/controls",
       "_view_module_version": "1.5.0",
       "_view_name": "HTMLView",
       "description": "",
       "description_tooltip": null,
       "layout": "IPY_MODEL_19445c8fb7b34e878dc99d7f95c425a0",
       "placeholder": "​",
       "style": "IPY_MODEL_248d4e2632214ac1962bb9a80b6031e7",
       "value": "Dl Size...: 100%"
      }
     },
     "66afde4b62744f0aae13f5ee121739f6": {
      "model_module": "@jupyter-widgets/base",
      "model_module_version": "1.2.0",
      "model_name": "LayoutModel",
      "state": {
       "_model_module": "@jupyter-widgets/base",
       "_model_module_version": "1.2.0",
       "_model_name": "LayoutModel",
       "_view_count": null,
       "_view_module": "@jupyter-widgets/base",
       "_view_module_version": "1.2.0",
       "_view_name": "LayoutView",
       "align_content": null,
       "align_items": null,
       "align_self": null,
       "border": null,
       "bottom": null,
       "display": null,
       "flex": null,
       "flex_flow": null,
       "grid_area": null,
       "grid_auto_columns": null,
       "grid_auto_flow": null,
       "grid_auto_rows": null,
       "grid_column": null,
       "grid_gap": null,
       "grid_row": null,
       "grid_template_areas": null,
       "grid_template_columns": null,
       "grid_template_rows": null,
       "height": null,
       "justify_content": null,
       "justify_items": null,
       "left": null,
       "margin": null,
       "max_height": null,
       "max_width": null,
       "min_height": null,
       "min_width": null,
       "object_fit": null,
       "object_position": null,
       "order": null,
       "overflow": null,
       "overflow_x": null,
       "overflow_y": null,
       "padding": null,
       "right": null,
       "top": null,
       "visibility": null,
       "width": null
      }
     },
     "74e7c8be77e348e8ae6f73855742575e": {
      "model_module": "@jupyter-widgets/controls",
      "model_module_version": "1.5.0",
      "model_name": "DescriptionStyleModel",
      "state": {
       "_model_module": "@jupyter-widgets/controls",
       "_model_module_version": "1.5.0",
       "_model_name": "DescriptionStyleModel",
       "_view_count": null,
       "_view_module": "@jupyter-widgets/base",
       "_view_module_version": "1.2.0",
       "_view_name": "StyleView",
       "description_width": ""
      }
     },
     "759bb3d198014efb940d83b549086db4": {
      "model_module": "@jupyter-widgets/controls",
      "model_module_version": "1.5.0",
      "model_name": "HTMLModel",
      "state": {
       "_dom_classes": [],
       "_model_module": "@jupyter-widgets/controls",
       "_model_module_version": "1.5.0",
       "_model_name": "HTMLModel",
       "_view_count": null,
       "_view_module": "@jupyter-widgets/controls",
       "_view_module_version": "1.5.0",
       "_view_name": "HTMLView",
       "description": "",
       "description_tooltip": null,
       "layout": "IPY_MODEL_03a4d56d29a54eca84e11917a1cb6b93",
       "placeholder": "​",
       "style": "IPY_MODEL_a9887ed0afdb4db08a29f424ee821d9b",
       "value": " 49999/50000 [00:00&lt;00:00, 217173.12 examples/s]"
      }
     },
     "763f624f405d485e9a3712cd99debacb": {
      "model_module": "@jupyter-widgets/controls",
      "model_module_version": "1.5.0",
      "model_name": "FloatProgressModel",
      "state": {
       "_dom_classes": [],
       "_model_module": "@jupyter-widgets/controls",
       "_model_module_version": "1.5.0",
       "_model_name": "FloatProgressModel",
       "_view_count": null,
       "_view_module": "@jupyter-widgets/controls",
       "_view_module_version": "1.5.0",
       "_view_name": "ProgressView",
       "bar_style": "info",
       "description": "",
       "description_tooltip": null,
       "layout": "IPY_MODEL_14ee8e9776034c159bb2d61eb1117b1b",
       "max": 1,
       "min": 0,
       "orientation": "horizontal",
       "style": "IPY_MODEL_8c2d42ffc3e648baaf0711f21fbaab66",
       "value": 1
      }
     },
     "78f76cf7e9cd4efbb1a9f5ee796166c3": {
      "model_module": "@jupyter-widgets/controls",
      "model_module_version": "1.5.0",
      "model_name": "FloatProgressModel",
      "state": {
       "_dom_classes": [],
       "_model_module": "@jupyter-widgets/controls",
       "_model_module_version": "1.5.0",
       "_model_name": "FloatProgressModel",
       "_view_count": null,
       "_view_module": "@jupyter-widgets/controls",
       "_view_module_version": "1.5.0",
       "_view_name": "ProgressView",
       "bar_style": "success",
       "description": "",
       "description_tooltip": null,
       "layout": "IPY_MODEL_22419e41128543cf8aa747d26de7c2f7",
       "max": 1,
       "min": 0,
       "orientation": "horizontal",
       "style": "IPY_MODEL_1b524eb6624b482aa2aa68cb254c5552",
       "value": 1
      }
     },
     "7b89d06e4d3f4d3f9d98f6d87e923f01": {
      "model_module": "@jupyter-widgets/base",
      "model_module_version": "1.2.0",
      "model_name": "LayoutModel",
      "state": {
       "_model_module": "@jupyter-widgets/base",
       "_model_module_version": "1.2.0",
       "_model_name": "LayoutModel",
       "_view_count": null,
       "_view_module": "@jupyter-widgets/base",
       "_view_module_version": "1.2.0",
       "_view_name": "LayoutView",
       "align_content": null,
       "align_items": null,
       "align_self": null,
       "border": null,
       "bottom": null,
       "display": null,
       "flex": null,
       "flex_flow": null,
       "grid_area": null,
       "grid_auto_columns": null,
       "grid_auto_flow": null,
       "grid_auto_rows": null,
       "grid_column": null,
       "grid_gap": null,
       "grid_row": null,
       "grid_template_areas": null,
       "grid_template_columns": null,
       "grid_template_rows": null,
       "height": null,
       "justify_content": null,
       "justify_items": null,
       "left": null,
       "margin": null,
       "max_height": null,
       "max_width": null,
       "min_height": null,
       "min_width": null,
       "object_fit": null,
       "object_position": null,
       "order": null,
       "overflow": null,
       "overflow_x": null,
       "overflow_y": null,
       "padding": null,
       "right": null,
       "top": null,
       "visibility": null,
       "width": null
      }
     },
     "7d8bd6f745084d69aabde8dd409e5b47": {
      "model_module": "@jupyter-widgets/base",
      "model_module_version": "1.2.0",
      "model_name": "LayoutModel",
      "state": {
       "_model_module": "@jupyter-widgets/base",
       "_model_module_version": "1.2.0",
       "_model_name": "LayoutModel",
       "_view_count": null,
       "_view_module": "@jupyter-widgets/base",
       "_view_module_version": "1.2.0",
       "_view_name": "LayoutView",
       "align_content": null,
       "align_items": null,
       "align_self": null,
       "border": null,
       "bottom": null,
       "display": null,
       "flex": null,
       "flex_flow": null,
       "grid_area": null,
       "grid_auto_columns": null,
       "grid_auto_flow": null,
       "grid_auto_rows": null,
       "grid_column": null,
       "grid_gap": null,
       "grid_row": null,
       "grid_template_areas": null,
       "grid_template_columns": null,
       "grid_template_rows": null,
       "height": null,
       "justify_content": null,
       "justify_items": null,
       "left": null,
       "margin": null,
       "max_height": null,
       "max_width": null,
       "min_height": null,
       "min_width": null,
       "object_fit": null,
       "object_position": null,
       "order": null,
       "overflow": null,
       "overflow_x": null,
       "overflow_y": null,
       "padding": null,
       "right": null,
       "top": null,
       "visibility": null,
       "width": null
      }
     },
     "7e3748b690a244dd9e419b58713e5f33": {
      "model_module": "@jupyter-widgets/base",
      "model_module_version": "1.2.0",
      "model_name": "LayoutModel",
      "state": {
       "_model_module": "@jupyter-widgets/base",
       "_model_module_version": "1.2.0",
       "_model_name": "LayoutModel",
       "_view_count": null,
       "_view_module": "@jupyter-widgets/base",
       "_view_module_version": "1.2.0",
       "_view_name": "LayoutView",
       "align_content": null,
       "align_items": null,
       "align_self": null,
       "border": null,
       "bottom": null,
       "display": null,
       "flex": null,
       "flex_flow": null,
       "grid_area": null,
       "grid_auto_columns": null,
       "grid_auto_flow": null,
       "grid_auto_rows": null,
       "grid_column": null,
       "grid_gap": null,
       "grid_row": null,
       "grid_template_areas": null,
       "grid_template_columns": null,
       "grid_template_rows": null,
       "height": null,
       "justify_content": null,
       "justify_items": null,
       "left": null,
       "margin": null,
       "max_height": null,
       "max_width": null,
       "min_height": null,
       "min_width": null,
       "object_fit": null,
       "object_position": null,
       "order": null,
       "overflow": null,
       "overflow_x": null,
       "overflow_y": null,
       "padding": null,
       "right": null,
       "top": null,
       "visibility": null,
       "width": "20px"
      }
     },
     "7ed99e1dee3c44799273a84c6fa75aab": {
      "model_module": "@jupyter-widgets/controls",
      "model_module_version": "1.5.0",
      "model_name": "DescriptionStyleModel",
      "state": {
       "_model_module": "@jupyter-widgets/controls",
       "_model_module_version": "1.5.0",
       "_model_name": "DescriptionStyleModel",
       "_view_count": null,
       "_view_module": "@jupyter-widgets/base",
       "_view_module_version": "1.2.0",
       "_view_name": "StyleView",
       "description_width": ""
      }
     },
     "7f022fdf25cc4ec885cea04f20ae400b": {
      "model_module": "@jupyter-widgets/base",
      "model_module_version": "1.2.0",
      "model_name": "LayoutModel",
      "state": {
       "_model_module": "@jupyter-widgets/base",
       "_model_module_version": "1.2.0",
       "_model_name": "LayoutModel",
       "_view_count": null,
       "_view_module": "@jupyter-widgets/base",
       "_view_module_version": "1.2.0",
       "_view_name": "LayoutView",
       "align_content": null,
       "align_items": null,
       "align_self": null,
       "border": null,
       "bottom": null,
       "display": null,
       "flex": null,
       "flex_flow": null,
       "grid_area": null,
       "grid_auto_columns": null,
       "grid_auto_flow": null,
       "grid_auto_rows": null,
       "grid_column": null,
       "grid_gap": null,
       "grid_row": null,
       "grid_template_areas": null,
       "grid_template_columns": null,
       "grid_template_rows": null,
       "height": null,
       "justify_content": null,
       "justify_items": null,
       "left": null,
       "margin": null,
       "max_height": null,
       "max_width": null,
       "min_height": null,
       "min_width": null,
       "object_fit": null,
       "object_position": null,
       "order": null,
       "overflow": null,
       "overflow_x": null,
       "overflow_y": null,
       "padding": null,
       "right": null,
       "top": null,
       "visibility": null,
       "width": null
      }
     },
     "84dbdc4a53d0454888f242ae61ed0f2d": {
      "model_module": "@jupyter-widgets/base",
      "model_module_version": "1.2.0",
      "model_name": "LayoutModel",
      "state": {
       "_model_module": "@jupyter-widgets/base",
       "_model_module_version": "1.2.0",
       "_model_name": "LayoutModel",
       "_view_count": null,
       "_view_module": "@jupyter-widgets/base",
       "_view_module_version": "1.2.0",
       "_view_name": "LayoutView",
       "align_content": null,
       "align_items": null,
       "align_self": null,
       "border": null,
       "bottom": null,
       "display": null,
       "flex": null,
       "flex_flow": null,
       "grid_area": null,
       "grid_auto_columns": null,
       "grid_auto_flow": null,
       "grid_auto_rows": null,
       "grid_column": null,
       "grid_gap": null,
       "grid_row": null,
       "grid_template_areas": null,
       "grid_template_columns": null,
       "grid_template_rows": null,
       "height": null,
       "justify_content": null,
       "justify_items": null,
       "left": null,
       "margin": null,
       "max_height": null,
       "max_width": null,
       "min_height": null,
       "min_width": null,
       "object_fit": null,
       "object_position": null,
       "order": null,
       "overflow": null,
       "overflow_x": null,
       "overflow_y": null,
       "padding": null,
       "right": null,
       "top": null,
       "visibility": null,
       "width": null
      }
     },
     "8867283e6a444288ad37e141e0942edf": {
      "model_module": "@jupyter-widgets/controls",
      "model_module_version": "1.5.0",
      "model_name": "HBoxModel",
      "state": {
       "_dom_classes": [],
       "_model_module": "@jupyter-widgets/controls",
       "_model_module_version": "1.5.0",
       "_model_name": "HBoxModel",
       "_view_count": null,
       "_view_module": "@jupyter-widgets/controls",
       "_view_module_version": "1.5.0",
       "_view_name": "HBoxView",
       "box_style": "",
       "children": [
        "IPY_MODEL_0d19c53f9beb43caaadd43de727dca0c",
        "IPY_MODEL_e26f091a465e4853b313e745b231278f",
        "IPY_MODEL_8f526cd44579468f82a31cdff522bb7a"
       ],
       "layout": "IPY_MODEL_927af516241d4664ae2e0d62b15146a3"
      }
     },
     "8c2d42ffc3e648baaf0711f21fbaab66": {
      "model_module": "@jupyter-widgets/controls",
      "model_module_version": "1.5.0",
      "model_name": "ProgressStyleModel",
      "state": {
       "_model_module": "@jupyter-widgets/controls",
       "_model_module_version": "1.5.0",
       "_model_name": "ProgressStyleModel",
       "_view_count": null,
       "_view_module": "@jupyter-widgets/base",
       "_view_module_version": "1.2.0",
       "_view_name": "StyleView",
       "bar_color": null,
       "description_width": ""
      }
     },
     "8f526cd44579468f82a31cdff522bb7a": {
      "model_module": "@jupyter-widgets/controls",
      "model_module_version": "1.5.0",
      "model_name": "HTMLModel",
      "state": {
       "_dom_classes": [],
       "_model_module": "@jupyter-widgets/controls",
       "_model_module_version": "1.5.0",
       "_model_name": "HTMLModel",
       "_view_count": null,
       "_view_module": "@jupyter-widgets/controls",
       "_view_module_version": "1.5.0",
       "_view_name": "HTMLView",
       "description": "",
       "description_tooltip": null,
       "layout": "IPY_MODEL_7b89d06e4d3f4d3f9d98f6d87e923f01",
       "placeholder": "​",
       "style": "IPY_MODEL_0c4a2a5de38f4a66bddc71e799c19962",
       "value": " 24999/25000 [00:00&lt;00:00, 149499.09 examples/s]"
      }
     },
     "927af516241d4664ae2e0d62b15146a3": {
      "model_module": "@jupyter-widgets/base",
      "model_module_version": "1.2.0",
      "model_name": "LayoutModel",
      "state": {
       "_model_module": "@jupyter-widgets/base",
       "_model_module_version": "1.2.0",
       "_model_name": "LayoutModel",
       "_view_count": null,
       "_view_module": "@jupyter-widgets/base",
       "_view_module_version": "1.2.0",
       "_view_name": "LayoutView",
       "align_content": null,
       "align_items": null,
       "align_self": null,
       "border": null,
       "bottom": null,
       "display": null,
       "flex": null,
       "flex_flow": null,
       "grid_area": null,
       "grid_auto_columns": null,
       "grid_auto_flow": null,
       "grid_auto_rows": null,
       "grid_column": null,
       "grid_gap": null,
       "grid_row": null,
       "grid_template_areas": null,
       "grid_template_columns": null,
       "grid_template_rows": null,
       "height": null,
       "justify_content": null,
       "justify_items": null,
       "left": null,
       "margin": null,
       "max_height": null,
       "max_width": null,
       "min_height": null,
       "min_width": null,
       "object_fit": null,
       "object_position": null,
       "order": null,
       "overflow": null,
       "overflow_x": null,
       "overflow_y": null,
       "padding": null,
       "right": null,
       "top": null,
       "visibility": null,
       "width": null
      }
     },
     "970fa23725474821b7ea7f9aa17bbb61": {
      "model_module": "@jupyter-widgets/controls",
      "model_module_version": "1.5.0",
      "model_name": "DescriptionStyleModel",
      "state": {
       "_model_module": "@jupyter-widgets/controls",
       "_model_module_version": "1.5.0",
       "_model_name": "DescriptionStyleModel",
       "_view_count": null,
       "_view_module": "@jupyter-widgets/base",
       "_view_module_version": "1.2.0",
       "_view_name": "StyleView",
       "description_width": ""
      }
     },
     "9a511cb8c80f4439be53f0618f1ee4e8": {
      "model_module": "@jupyter-widgets/controls",
      "model_module_version": "1.5.0",
      "model_name": "DescriptionStyleModel",
      "state": {
       "_model_module": "@jupyter-widgets/controls",
       "_model_module_version": "1.5.0",
       "_model_name": "DescriptionStyleModel",
       "_view_count": null,
       "_view_module": "@jupyter-widgets/base",
       "_view_module_version": "1.2.0",
       "_view_name": "StyleView",
       "description_width": ""
      }
     },
     "9ac82f5701314aa5b1081a777442fe16": {
      "model_module": "@jupyter-widgets/controls",
      "model_module_version": "1.5.0",
      "model_name": "DescriptionStyleModel",
      "state": {
       "_model_module": "@jupyter-widgets/controls",
       "_model_module_version": "1.5.0",
       "_model_name": "DescriptionStyleModel",
       "_view_count": null,
       "_view_module": "@jupyter-widgets/base",
       "_view_module_version": "1.2.0",
       "_view_name": "StyleView",
       "description_width": ""
      }
     },
     "a9887ed0afdb4db08a29f424ee821d9b": {
      "model_module": "@jupyter-widgets/controls",
      "model_module_version": "1.5.0",
      "model_name": "DescriptionStyleModel",
      "state": {
       "_model_module": "@jupyter-widgets/controls",
       "_model_module_version": "1.5.0",
       "_model_name": "DescriptionStyleModel",
       "_view_count": null,
       "_view_module": "@jupyter-widgets/base",
       "_view_module_version": "1.2.0",
       "_view_name": "StyleView",
       "description_width": ""
      }
     },
     "acf87928ecff41a789b55e2bf817cc8e": {
      "model_module": "@jupyter-widgets/base",
      "model_module_version": "1.2.0",
      "model_name": "LayoutModel",
      "state": {
       "_model_module": "@jupyter-widgets/base",
       "_model_module_version": "1.2.0",
       "_model_name": "LayoutModel",
       "_view_count": null,
       "_view_module": "@jupyter-widgets/base",
       "_view_module_version": "1.2.0",
       "_view_name": "LayoutView",
       "align_content": null,
       "align_items": null,
       "align_self": null,
       "border": null,
       "bottom": null,
       "display": null,
       "flex": null,
       "flex_flow": null,
       "grid_area": null,
       "grid_auto_columns": null,
       "grid_auto_flow": null,
       "grid_auto_rows": null,
       "grid_column": null,
       "grid_gap": null,
       "grid_row": null,
       "grid_template_areas": null,
       "grid_template_columns": null,
       "grid_template_rows": null,
       "height": null,
       "justify_content": null,
       "justify_items": null,
       "left": null,
       "margin": null,
       "max_height": null,
       "max_width": null,
       "min_height": null,
       "min_width": null,
       "object_fit": null,
       "object_position": null,
       "order": null,
       "overflow": null,
       "overflow_x": null,
       "overflow_y": null,
       "padding": null,
       "right": null,
       "top": null,
       "visibility": null,
       "width": null
      }
     },
     "b3121fed57124755af6d1ee9aa626c49": {
      "model_module": "@jupyter-widgets/controls",
      "model_module_version": "1.5.0",
      "model_name": "HTMLModel",
      "state": {
       "_dom_classes": [],
       "_model_module": "@jupyter-widgets/controls",
       "_model_module_version": "1.5.0",
       "_model_name": "HTMLModel",
       "_view_count": null,
       "_view_module": "@jupyter-widgets/controls",
       "_view_module_version": "1.5.0",
       "_view_name": "HTMLView",
       "description": "",
       "description_tooltip": null,
       "layout": "IPY_MODEL_04f98e70e06c4afe9755813ed33a2fbc",
       "placeholder": "​",
       "style": "IPY_MODEL_74e7c8be77e348e8ae6f73855742575e",
       "value": ""
      }
     },
     "b4ec3cd01e3b4ae2b37644d8614626b9": {
      "model_module": "@jupyter-widgets/controls",
      "model_module_version": "1.5.0",
      "model_name": "HTMLModel",
      "state": {
       "_dom_classes": [],
       "_model_module": "@jupyter-widgets/controls",
       "_model_module_version": "1.5.0",
       "_model_name": "HTMLModel",
       "_view_count": null,
       "_view_module": "@jupyter-widgets/controls",
       "_view_module_version": "1.5.0",
       "_view_name": "HTMLView",
       "description": "",
       "description_tooltip": null,
       "layout": "IPY_MODEL_acf87928ecff41a789b55e2bf817cc8e",
       "placeholder": "​",
       "style": "IPY_MODEL_2df9bec2ba8941d18430771478ea3997",
       "value": ""
      }
     },
     "b5dc03a617264e85b20db21b6d59b472": {
      "model_module": "@jupyter-widgets/controls",
      "model_module_version": "1.5.0",
      "model_name": "HBoxModel",
      "state": {
       "_dom_classes": [],
       "_model_module": "@jupyter-widgets/controls",
       "_model_module_version": "1.5.0",
       "_model_name": "HBoxModel",
       "_view_count": null,
       "_view_module": "@jupyter-widgets/controls",
       "_view_module_version": "1.5.0",
       "_view_name": "HBoxView",
       "box_style": "",
       "children": [
        "IPY_MODEL_b3121fed57124755af6d1ee9aa626c49",
        "IPY_MODEL_3ab949fdcba447cc8779264a27a31b35",
        "IPY_MODEL_e05f0f7e74604db4b685d162900b0a87"
       ],
       "layout": "IPY_MODEL_84dbdc4a53d0454888f242ae61ed0f2d"
      }
     },
     "c40a38344a2f495dbfdac11287c3a21e": {
      "model_module": "@jupyter-widgets/controls",
      "model_module_version": "1.5.0",
      "model_name": "HTMLModel",
      "state": {
       "_dom_classes": [],
       "_model_module": "@jupyter-widgets/controls",
       "_model_module_version": "1.5.0",
       "_model_name": "HTMLModel",
       "_view_count": null,
       "_view_module": "@jupyter-widgets/controls",
       "_view_module_version": "1.5.0",
       "_view_name": "HTMLView",
       "description": "",
       "description_tooltip": null,
       "layout": "IPY_MODEL_3c62b2e5051641539288cdd813d11828",
       "placeholder": "​",
       "style": "IPY_MODEL_fd9885e1e25b4779a0903d44226b1d8f",
       "value": " 80/80 [00:01&lt;00:00, 51.86 MiB/s]"
      }
     },
     "cb678bb186944f85ac1e3f9402bf42b9": {
      "model_module": "@jupyter-widgets/controls",
      "model_module_version": "1.5.0",
      "model_name": "HTMLModel",
      "state": {
       "_dom_classes": [],
       "_model_module": "@jupyter-widgets/controls",
       "_model_module_version": "1.5.0",
       "_model_name": "HTMLModel",
       "_view_count": null,
       "_view_module": "@jupyter-widgets/controls",
       "_view_module_version": "1.5.0",
       "_view_name": "HTMLView",
       "description": "",
       "description_tooltip": null,
       "layout": "IPY_MODEL_22b219416d72489fa70a6727143e6f49",
       "placeholder": "​",
       "style": "IPY_MODEL_9ac82f5701314aa5b1081a777442fe16",
       "value": "Dl Completed...: 100%"
      }
     },
     "ce1a63a778ea4dce9c90a1217a302e8f": {
      "model_module": "@jupyter-widgets/base",
      "model_module_version": "1.2.0",
      "model_name": "LayoutModel",
      "state": {
       "_model_module": "@jupyter-widgets/base",
       "_model_module_version": "1.2.0",
       "_model_name": "LayoutModel",
       "_view_count": null,
       "_view_module": "@jupyter-widgets/base",
       "_view_module_version": "1.2.0",
       "_view_name": "LayoutView",
       "align_content": null,
       "align_items": null,
       "align_self": null,
       "border": null,
       "bottom": null,
       "display": null,
       "flex": null,
       "flex_flow": null,
       "grid_area": null,
       "grid_auto_columns": null,
       "grid_auto_flow": null,
       "grid_auto_rows": null,
       "grid_column": null,
       "grid_gap": null,
       "grid_row": null,
       "grid_template_areas": null,
       "grid_template_columns": null,
       "grid_template_rows": null,
       "height": null,
       "justify_content": null,
       "justify_items": null,
       "left": null,
       "margin": null,
       "max_height": null,
       "max_width": null,
       "min_height": null,
       "min_width": null,
       "object_fit": null,
       "object_position": null,
       "order": null,
       "overflow": null,
       "overflow_x": null,
       "overflow_y": null,
       "padding": null,
       "right": null,
       "top": null,
       "visibility": null,
       "width": null
      }
     },
     "cfb8d99acbc64a529f6b8ac18e701446": {
      "model_module": "@jupyter-widgets/controls",
      "model_module_version": "1.5.0",
      "model_name": "ProgressStyleModel",
      "state": {
       "_model_module": "@jupyter-widgets/controls",
       "_model_module_version": "1.5.0",
       "_model_name": "ProgressStyleModel",
       "_view_count": null,
       "_view_module": "@jupyter-widgets/base",
       "_view_module_version": "1.2.0",
       "_view_name": "StyleView",
       "bar_color": null,
       "description_width": ""
      }
     },
     "d1c250c2d26e40148508301a613ebb70": {
      "model_module": "@jupyter-widgets/controls",
      "model_module_version": "1.5.0",
      "model_name": "ProgressStyleModel",
      "state": {
       "_model_module": "@jupyter-widgets/controls",
       "_model_module_version": "1.5.0",
       "_model_name": "ProgressStyleModel",
       "_view_count": null,
       "_view_module": "@jupyter-widgets/base",
       "_view_module_version": "1.2.0",
       "_view_name": "StyleView",
       "bar_color": null,
       "description_width": ""
      }
     },
     "d428a22e7ada43479b971a5626353632": {
      "model_module": "@jupyter-widgets/controls",
      "model_module_version": "1.5.0",
      "model_name": "HBoxModel",
      "state": {
       "_dom_classes": [],
       "_model_module": "@jupyter-widgets/controls",
       "_model_module_version": "1.5.0",
       "_model_name": "HBoxModel",
       "_view_count": null,
       "_view_module": "@jupyter-widgets/controls",
       "_view_module_version": "1.5.0",
       "_view_name": "HBoxView",
       "box_style": "",
       "children": [
        "IPY_MODEL_f80a68005487428997df82053b9e7edd",
        "IPY_MODEL_e60ad033aa3c419cbf7f60a15a7d571b",
        "IPY_MODEL_759bb3d198014efb940d83b549086db4"
       ],
       "layout": "IPY_MODEL_38d354e40dba41f1a5959ea61db9e80e"
      }
     },
     "d637c01ed0514389b867ac814dc64a7e": {
      "model_module": "@jupyter-widgets/base",
      "model_module_version": "1.2.0",
      "model_name": "LayoutModel",
      "state": {
       "_model_module": "@jupyter-widgets/base",
       "_model_module_version": "1.2.0",
       "_model_name": "LayoutModel",
       "_view_count": null,
       "_view_module": "@jupyter-widgets/base",
       "_view_module_version": "1.2.0",
       "_view_name": "LayoutView",
       "align_content": null,
       "align_items": null,
       "align_self": null,
       "border": null,
       "bottom": null,
       "display": null,
       "flex": null,
       "flex_flow": null,
       "grid_area": null,
       "grid_auto_columns": null,
       "grid_auto_flow": null,
       "grid_auto_rows": null,
       "grid_column": null,
       "grid_gap": null,
       "grid_row": null,
       "grid_template_areas": null,
       "grid_template_columns": null,
       "grid_template_rows": null,
       "height": null,
       "justify_content": null,
       "justify_items": null,
       "left": null,
       "margin": null,
       "max_height": null,
       "max_width": null,
       "min_height": null,
       "min_width": null,
       "object_fit": null,
       "object_position": null,
       "order": null,
       "overflow": null,
       "overflow_x": null,
       "overflow_y": null,
       "padding": null,
       "right": null,
       "top": null,
       "visibility": null,
       "width": "20px"
      }
     },
     "d6e195005b9445968668e4777462e52a": {
      "model_module": "@jupyter-widgets/base",
      "model_module_version": "1.2.0",
      "model_name": "LayoutModel",
      "state": {
       "_model_module": "@jupyter-widgets/base",
       "_model_module_version": "1.2.0",
       "_model_name": "LayoutModel",
       "_view_count": null,
       "_view_module": "@jupyter-widgets/base",
       "_view_module_version": "1.2.0",
       "_view_name": "LayoutView",
       "align_content": null,
       "align_items": null,
       "align_self": null,
       "border": null,
       "bottom": null,
       "display": null,
       "flex": null,
       "flex_flow": null,
       "grid_area": null,
       "grid_auto_columns": null,
       "grid_auto_flow": null,
       "grid_auto_rows": null,
       "grid_column": null,
       "grid_gap": null,
       "grid_row": null,
       "grid_template_areas": null,
       "grid_template_columns": null,
       "grid_template_rows": null,
       "height": null,
       "justify_content": null,
       "justify_items": null,
       "left": null,
       "margin": null,
       "max_height": null,
       "max_width": null,
       "min_height": null,
       "min_width": null,
       "object_fit": null,
       "object_position": null,
       "order": null,
       "overflow": null,
       "overflow_x": null,
       "overflow_y": null,
       "padding": null,
       "right": null,
       "top": null,
       "visibility": null,
       "width": null
      }
     },
     "d7ca5149c839480c94cb64c7b2cdfda7": {
      "model_module": "@jupyter-widgets/base",
      "model_module_version": "1.2.0",
      "model_name": "LayoutModel",
      "state": {
       "_model_module": "@jupyter-widgets/base",
       "_model_module_version": "1.2.0",
       "_model_name": "LayoutModel",
       "_view_count": null,
       "_view_module": "@jupyter-widgets/base",
       "_view_module_version": "1.2.0",
       "_view_name": "LayoutView",
       "align_content": null,
       "align_items": null,
       "align_self": null,
       "border": null,
       "bottom": null,
       "display": null,
       "flex": null,
       "flex_flow": null,
       "grid_area": null,
       "grid_auto_columns": null,
       "grid_auto_flow": null,
       "grid_auto_rows": null,
       "grid_column": null,
       "grid_gap": null,
       "grid_row": null,
       "grid_template_areas": null,
       "grid_template_columns": null,
       "grid_template_rows": null,
       "height": null,
       "justify_content": null,
       "justify_items": null,
       "left": null,
       "margin": null,
       "max_height": null,
       "max_width": null,
       "min_height": null,
       "min_width": null,
       "object_fit": null,
       "object_position": null,
       "order": null,
       "overflow": null,
       "overflow_x": null,
       "overflow_y": null,
       "padding": null,
       "right": null,
       "top": null,
       "visibility": null,
       "width": null
      }
     },
     "da5fa5d28c584c1194e9b884c81bfc49": {
      "model_module": "@jupyter-widgets/controls",
      "model_module_version": "1.5.0",
      "model_name": "HTMLModel",
      "state": {
       "_dom_classes": [],
       "_model_module": "@jupyter-widgets/controls",
       "_model_module_version": "1.5.0",
       "_model_name": "HTMLModel",
       "_view_count": null,
       "_view_module": "@jupyter-widgets/controls",
       "_view_module_version": "1.5.0",
       "_view_name": "HTMLView",
       "description": "",
       "description_tooltip": null,
       "layout": "IPY_MODEL_66afde4b62744f0aae13f5ee121739f6",
       "placeholder": "​",
       "style": "IPY_MODEL_f9cf098e4c704c65816802d29fac5860",
       "value": " 24999/25000 [00:00&lt;00:00, 162849.78 examples/s]"
      }
     },
     "e05f0f7e74604db4b685d162900b0a87": {
      "model_module": "@jupyter-widgets/controls",
      "model_module_version": "1.5.0",
      "model_name": "HTMLModel",
      "state": {
       "_dom_classes": [],
       "_model_module": "@jupyter-widgets/controls",
       "_model_module_version": "1.5.0",
       "_model_name": "HTMLModel",
       "_view_count": null,
       "_view_module": "@jupyter-widgets/controls",
       "_view_module_version": "1.5.0",
       "_view_name": "HTMLView",
       "description": "",
       "description_tooltip": null,
       "layout": "IPY_MODEL_7f022fdf25cc4ec885cea04f20ae400b",
       "placeholder": "​",
       "style": "IPY_MODEL_5e7587b048644329953777674607e7e7",
       "value": " 24964/0 [00:37&lt;00:00, 751.13 examples/s]"
      }
     },
     "e26f091a465e4853b313e745b231278f": {
      "model_module": "@jupyter-widgets/controls",
      "model_module_version": "1.5.0",
      "model_name": "FloatProgressModel",
      "state": {
       "_dom_classes": [],
       "_model_module": "@jupyter-widgets/controls",
       "_model_module_version": "1.5.0",
       "_model_name": "FloatProgressModel",
       "_view_count": null,
       "_view_module": "@jupyter-widgets/controls",
       "_view_module_version": "1.5.0",
       "_view_name": "ProgressView",
       "bar_style": "danger",
       "description": "",
       "description_tooltip": null,
       "layout": "IPY_MODEL_7d8bd6f745084d69aabde8dd409e5b47",
       "max": 25000,
       "min": 0,
       "orientation": "horizontal",
       "style": "IPY_MODEL_cfb8d99acbc64a529f6b8ac18e701446",
       "value": 24999
      }
     },
     "e26f51c9adfb4920be67589e0b576538": {
      "model_module": "@jupyter-widgets/base",
      "model_module_version": "1.2.0",
      "model_name": "LayoutModel",
      "state": {
       "_model_module": "@jupyter-widgets/base",
       "_model_module_version": "1.2.0",
       "_model_name": "LayoutModel",
       "_view_count": null,
       "_view_module": "@jupyter-widgets/base",
       "_view_module_version": "1.2.0",
       "_view_name": "LayoutView",
       "align_content": null,
       "align_items": null,
       "align_self": null,
       "border": null,
       "bottom": null,
       "display": null,
       "flex": null,
       "flex_flow": null,
       "grid_area": null,
       "grid_auto_columns": null,
       "grid_auto_flow": null,
       "grid_auto_rows": null,
       "grid_column": null,
       "grid_gap": null,
       "grid_row": null,
       "grid_template_areas": null,
       "grid_template_columns": null,
       "grid_template_rows": null,
       "height": null,
       "justify_content": null,
       "justify_items": null,
       "left": null,
       "margin": null,
       "max_height": null,
       "max_width": null,
       "min_height": null,
       "min_width": null,
       "object_fit": null,
       "object_position": null,
       "order": null,
       "overflow": null,
       "overflow_x": null,
       "overflow_y": null,
       "padding": null,
       "right": null,
       "top": null,
       "visibility": null,
       "width": null
      }
     },
     "e4dd8d503e8843219b04fe48aa5ebbbe": {
      "model_module": "@jupyter-widgets/controls",
      "model_module_version": "1.5.0",
      "model_name": "HBoxModel",
      "state": {
       "_dom_classes": [],
       "_model_module": "@jupyter-widgets/controls",
       "_model_module_version": "1.5.0",
       "_model_name": "HBoxModel",
       "_view_count": null,
       "_view_module": "@jupyter-widgets/controls",
       "_view_module_version": "1.5.0",
       "_view_name": "HBoxView",
       "box_style": "",
       "children": [
        "IPY_MODEL_b4ec3cd01e3b4ae2b37644d8614626b9",
        "IPY_MODEL_f1d75856967549df97974b910db077f6",
        "IPY_MODEL_0443799244b345029a7a6fe4834ae34b"
       ],
       "layout": "IPY_MODEL_ce1a63a778ea4dce9c90a1217a302e8f"
      }
     },
     "e5a5af4babfd428ea9bc853a18cbf70c": {
      "model_module": "@jupyter-widgets/controls",
      "model_module_version": "1.5.0",
      "model_name": "ProgressStyleModel",
      "state": {
       "_model_module": "@jupyter-widgets/controls",
       "_model_module_version": "1.5.0",
       "_model_name": "ProgressStyleModel",
       "_view_count": null,
       "_view_module": "@jupyter-widgets/base",
       "_view_module_version": "1.2.0",
       "_view_name": "StyleView",
       "bar_color": null,
       "description_width": ""
      }
     },
     "e60ad033aa3c419cbf7f60a15a7d571b": {
      "model_module": "@jupyter-widgets/controls",
      "model_module_version": "1.5.0",
      "model_name": "FloatProgressModel",
      "state": {
       "_dom_classes": [],
       "_model_module": "@jupyter-widgets/controls",
       "_model_module_version": "1.5.0",
       "_model_name": "FloatProgressModel",
       "_view_count": null,
       "_view_module": "@jupyter-widgets/controls",
       "_view_module_version": "1.5.0",
       "_view_name": "ProgressView",
       "bar_style": "danger",
       "description": "",
       "description_tooltip": null,
       "layout": "IPY_MODEL_554d0d9c994e4005a82910f58f32a15c",
       "max": 50000,
       "min": 0,
       "orientation": "horizontal",
       "style": "IPY_MODEL_0d3a406af12643dfba31d8f81b0b5914",
       "value": 49999
      }
     },
     "e80b52f652e54c469674e016b8fa07be": {
      "model_module": "@jupyter-widgets/base",
      "model_module_version": "1.2.0",
      "model_name": "LayoutModel",
      "state": {
       "_model_module": "@jupyter-widgets/base",
       "_model_module_version": "1.2.0",
       "_model_name": "LayoutModel",
       "_view_count": null,
       "_view_module": "@jupyter-widgets/base",
       "_view_module_version": "1.2.0",
       "_view_name": "LayoutView",
       "align_content": null,
       "align_items": null,
       "align_self": null,
       "border": null,
       "bottom": null,
       "display": null,
       "flex": null,
       "flex_flow": null,
       "grid_area": null,
       "grid_auto_columns": null,
       "grid_auto_flow": null,
       "grid_auto_rows": null,
       "grid_column": null,
       "grid_gap": null,
       "grid_row": null,
       "grid_template_areas": null,
       "grid_template_columns": null,
       "grid_template_rows": null,
       "height": null,
       "justify_content": null,
       "justify_items": null,
       "left": null,
       "margin": null,
       "max_height": null,
       "max_width": null,
       "min_height": null,
       "min_width": null,
       "object_fit": null,
       "object_position": null,
       "order": null,
       "overflow": null,
       "overflow_x": null,
       "overflow_y": null,
       "padding": null,
       "right": null,
       "top": null,
       "visibility": null,
       "width": "20px"
      }
     },
     "ede2034b09e94560b60f36daeb92f494": {
      "model_module": "@jupyter-widgets/controls",
      "model_module_version": "1.5.0",
      "model_name": "DescriptionStyleModel",
      "state": {
       "_model_module": "@jupyter-widgets/controls",
       "_model_module_version": "1.5.0",
       "_model_name": "DescriptionStyleModel",
       "_view_count": null,
       "_view_module": "@jupyter-widgets/base",
       "_view_module_version": "1.2.0",
       "_view_name": "StyleView",
       "description_width": ""
      }
     },
     "f1d75856967549df97974b910db077f6": {
      "model_module": "@jupyter-widgets/controls",
      "model_module_version": "1.5.0",
      "model_name": "FloatProgressModel",
      "state": {
       "_dom_classes": [],
       "_model_module": "@jupyter-widgets/controls",
       "_model_module_version": "1.5.0",
       "_model_name": "FloatProgressModel",
       "_view_count": null,
       "_view_module": "@jupyter-widgets/controls",
       "_view_module_version": "1.5.0",
       "_view_name": "ProgressView",
       "bar_style": "info",
       "description": "",
       "description_tooltip": null,
       "layout": "IPY_MODEL_7e3748b690a244dd9e419b58713e5f33",
       "max": 1,
       "min": 0,
       "orientation": "horizontal",
       "style": "IPY_MODEL_fc31f30dff7543dcb28eea6dcfcff499",
       "value": 1
      }
     },
     "f80a68005487428997df82053b9e7edd": {
      "model_module": "@jupyter-widgets/controls",
      "model_module_version": "1.5.0",
      "model_name": "HTMLModel",
      "state": {
       "_dom_classes": [],
       "_model_module": "@jupyter-widgets/controls",
       "_model_module_version": "1.5.0",
       "_model_name": "HTMLModel",
       "_view_count": null,
       "_view_module": "@jupyter-widgets/controls",
       "_view_module_version": "1.5.0",
       "_view_name": "HTMLView",
       "description": "",
       "description_tooltip": null,
       "layout": "IPY_MODEL_4bdd39f888fa47de95205637ccf1130b",
       "placeholder": "​",
       "style": "IPY_MODEL_410d7c4f33de43518ca8a4a890ff48b7",
       "value": "100%"
      }
     },
     "f9cf098e4c704c65816802d29fac5860": {
      "model_module": "@jupyter-widgets/controls",
      "model_module_version": "1.5.0",
      "model_name": "DescriptionStyleModel",
      "state": {
       "_model_module": "@jupyter-widgets/controls",
       "_model_module_version": "1.5.0",
       "_model_name": "DescriptionStyleModel",
       "_view_count": null,
       "_view_module": "@jupyter-widgets/base",
       "_view_module_version": "1.2.0",
       "_view_name": "StyleView",
       "description_width": ""
      }
     },
     "fc31f30dff7543dcb28eea6dcfcff499": {
      "model_module": "@jupyter-widgets/controls",
      "model_module_version": "1.5.0",
      "model_name": "ProgressStyleModel",
      "state": {
       "_model_module": "@jupyter-widgets/controls",
       "_model_module_version": "1.5.0",
       "_model_name": "ProgressStyleModel",
       "_view_count": null,
       "_view_module": "@jupyter-widgets/base",
       "_view_module_version": "1.2.0",
       "_view_name": "StyleView",
       "bar_color": null,
       "description_width": ""
      }
     },
     "fd9885e1e25b4779a0903d44226b1d8f": {
      "model_module": "@jupyter-widgets/controls",
      "model_module_version": "1.5.0",
      "model_name": "DescriptionStyleModel",
      "state": {
       "_model_module": "@jupyter-widgets/controls",
       "_model_module_version": "1.5.0",
       "_model_name": "DescriptionStyleModel",
       "_view_count": null,
       "_view_module": "@jupyter-widgets/base",
       "_view_module_version": "1.2.0",
       "_view_name": "StyleView",
       "description_width": ""
      }
     }
    },
    "version_major": 2,
    "version_minor": 0
   }
  }
 },
 "nbformat": 4,
 "nbformat_minor": 5
}